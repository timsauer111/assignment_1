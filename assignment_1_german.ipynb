{
 "cells": [
  {
   "cell_type": "markdown",
   "id": "6b086613",
   "metadata": {},
   "source": [
    "<img src=\"images/logo.png\" width=\"200\">"
   ]
  },
  {
   "cell_type": "markdown",
   "id": "d2c5798d",
   "metadata": {},
   "source": [
    "# KogSys-KI-B - Assignment 1\n",
    "\n",
    "### Suche, Heuristische Suche\n",
    "\n",
    "_Abgabefrist: **25.05.2025**_\n",
    "\n",
    "---\n",
    "\n"
   ]
  },
  {
   "cell_type": "markdown",
   "id": "67894b6b",
   "metadata": {},
   "source": [
    "#### Abgabe Informationen"
   ]
  },
  {
   "cell_type": "markdown",
   "id": "a00385d2",
   "metadata": {},
   "source": [
    "Laden Sie Ihre Lösung über den VC-Kurs hoch. Bitte laden Sie **ein Zip-Archiv** pro Gruppe hoch. Dieses muss enthalten::\n",
    "\n",
    "- Ihre Lösung als **Notebook** (eine `.ipynb`-Datei)\n",
    "- Ein Ordner mit dem Namen **images**, der alle Ihre Bilder enthält, falls Sie welche verwendet haben (halten Sie die Bildgrößen relativ klein)\n",
    "\n",
    "Ihr Zip-Archiv sollte wie folgt benannt werden:\n",
    "\n",
    "```\n",
    "assignment_<Assignmentnummer>_solution_<Gruppennummer>.zip\n",
    "```\n",
    "\n",
    "In dieser Aufgabe können Sie insgesamt **20 Punkte** erreichen. Von diesen Punkten werden **2 Bonuspunkte** für die Prüfung wie folgt berechnet:\n",
    "\n",
    "| **Points in Assignment** | **Bonus Points for Exam** |\n",
    "| :----------------------: | :-----------------------: |\n",
    "|            20            |             2             |\n",
    "|            15            |            1.5            |\n",
    "|            10            |             1             |\n",
    "|            5             |            0.5            |"
   ]
  },
  {
   "cell_type": "markdown",
   "id": "b9474691",
   "metadata": {},
   "source": [
    "<div class='alert alert-block alert-danger'>\n",
    "\n",
    "##### **Wichtige Hinweise**\n",
    "\n",
    "1. **Diese Aufgabe wird benotet. Sie können Bonuspunkte für die Prüfung erwerben.**\n",
    "2. **Wenn offensichtlich ist, dass eine Aufgabe von einer anderen Quelle kopiert wurde und keine eigenständige Arbeit geleistet wurde, werden keine Bonuspunkte vergeben. Bitte formulieren Sie alle Antworten in Ihren eigenen Worten!**\n",
    "3. **Falls LLMs (wie ChatGPT oder Copilot) zur Erstellung Ihrer Einreichung verwendet wurden, geben Sie dies bitte gemäß den gängigen wissenschaftlichen Praktiken an. Siehe auch die [KI Policy im VC-Kurs](https://vc.uni-bamberg.de/mod/page/view.php?id=1980835)**"
   ]
  },
  {
   "cell_type": "markdown",
   "id": "254d9fb4",
   "metadata": {},
   "source": [
    "### Setup"
   ]
  },
  {
   "cell_type": "markdown",
   "id": "616af51b",
   "metadata": {},
   "source": [
    "Um euer assignment aufzusetzen, müsst ihr die notwendigen pakete installieren, welche in der Datein `requirements.txt` gelistet sind. Dies könnt ihr machen, indem ihr die folgende Zelle ausführt."
   ]
  },
  {
   "cell_type": "code",
   "execution_count": 2,
   "id": "8c0de218",
   "metadata": {},
   "outputs": [
    {
     "name": "stdout",
     "output_type": "stream",
     "text": [
      "Collecting numpy (from -r requirements.txt (line 1))\n",
      "  Downloading numpy-2.2.6-cp313-cp313-macosx_14_0_x86_64.whl.metadata (62 kB)\n",
      "Collecting pandas (from -r requirements.txt (line 2))\n",
      "  Downloading pandas-2.2.3-cp313-cp313-macosx_10_13_x86_64.whl.metadata (89 kB)\n",
      "Collecting networkx (from -r requirements.txt (line 3))\n",
      "  Using cached networkx-3.4.2-py3-none-any.whl.metadata (6.3 kB)\n",
      "Collecting matplotlib (from -r requirements.txt (line 4))\n",
      "  Downloading matplotlib-3.10.3-cp313-cp313-macosx_10_13_x86_64.whl.metadata (11 kB)\n",
      "Requirement already satisfied: python-dateutil>=2.8.2 in /opt/anaconda3/envs/PythonEnv/lib/python3.13/site-packages (from pandas->-r requirements.txt (line 2)) (2.9.0.post0)\n",
      "Collecting pytz>=2020.1 (from pandas->-r requirements.txt (line 2))\n",
      "  Using cached pytz-2025.2-py2.py3-none-any.whl.metadata (22 kB)\n",
      "Collecting tzdata>=2022.7 (from pandas->-r requirements.txt (line 2))\n",
      "  Using cached tzdata-2025.2-py2.py3-none-any.whl.metadata (1.4 kB)\n",
      "Collecting contourpy>=1.0.1 (from matplotlib->-r requirements.txt (line 4))\n",
      "  Downloading contourpy-1.3.2-cp313-cp313-macosx_10_13_x86_64.whl.metadata (5.5 kB)\n",
      "Collecting cycler>=0.10 (from matplotlib->-r requirements.txt (line 4))\n",
      "  Using cached cycler-0.12.1-py3-none-any.whl.metadata (3.8 kB)\n",
      "Collecting fonttools>=4.22.0 (from matplotlib->-r requirements.txt (line 4))\n",
      "  Downloading fonttools-4.58.0-cp313-cp313-macosx_10_13_x86_64.whl.metadata (104 kB)\n",
      "Collecting kiwisolver>=1.3.1 (from matplotlib->-r requirements.txt (line 4))\n",
      "  Downloading kiwisolver-1.4.8-cp313-cp313-macosx_10_13_x86_64.whl.metadata (6.2 kB)\n",
      "Requirement already satisfied: packaging>=20.0 in /opt/anaconda3/envs/PythonEnv/lib/python3.13/site-packages (from matplotlib->-r requirements.txt (line 4)) (25.0)\n",
      "Collecting pillow>=8 (from matplotlib->-r requirements.txt (line 4))\n",
      "  Downloading pillow-11.2.1-cp313-cp313-macosx_10_13_x86_64.whl.metadata (8.9 kB)\n",
      "Collecting pyparsing>=2.3.1 (from matplotlib->-r requirements.txt (line 4))\n",
      "  Using cached pyparsing-3.2.3-py3-none-any.whl.metadata (5.0 kB)\n",
      "Requirement already satisfied: six>=1.5 in /opt/anaconda3/envs/PythonEnv/lib/python3.13/site-packages (from python-dateutil>=2.8.2->pandas->-r requirements.txt (line 2)) (1.17.0)\n",
      "Downloading numpy-2.2.6-cp313-cp313-macosx_14_0_x86_64.whl (6.6 MB)\n",
      "\u001b[2K   \u001b[90m━━━━━━━━━━━━━━━━━━━━━━━━━━━━━━━━━━━━━━━━\u001b[0m \u001b[32m6.6/6.6 MB\u001b[0m \u001b[31m6.6 MB/s\u001b[0m eta \u001b[36m0:00:00\u001b[0ma \u001b[36m0:00:01\u001b[0mm\n",
      "\u001b[?25hDownloading pandas-2.2.3-cp313-cp313-macosx_10_13_x86_64.whl (12.5 MB)\n",
      "\u001b[2K   \u001b[90m━━━━━━━━━━━━━━━━━━━━━━━━━━━━━━━━━━━━━━━━\u001b[0m \u001b[32m12.5/12.5 MB\u001b[0m \u001b[31m6.0 MB/s\u001b[0m eta \u001b[36m0:00:00\u001b[0m00:01\u001b[0m00:01\u001b[0m\n",
      "\u001b[?25hUsing cached networkx-3.4.2-py3-none-any.whl (1.7 MB)\n",
      "Downloading matplotlib-3.10.3-cp313-cp313-macosx_10_13_x86_64.whl (8.2 MB)\n",
      "\u001b[2K   \u001b[90m━━━━━━━━━━━━━━━━━━━━━━━━━━━━━━━━━━━━━━━━\u001b[0m \u001b[32m8.2/8.2 MB\u001b[0m \u001b[31m6.0 MB/s\u001b[0m eta \u001b[36m0:00:00\u001b[0ma \u001b[36m0:00:01\u001b[0m\n",
      "\u001b[?25hDownloading contourpy-1.3.2-cp313-cp313-macosx_10_13_x86_64.whl (271 kB)\n",
      "Using cached cycler-0.12.1-py3-none-any.whl (8.3 kB)\n",
      "Downloading fonttools-4.58.0-cp313-cp313-macosx_10_13_x86_64.whl (2.3 MB)\n",
      "\u001b[2K   \u001b[90m━━━━━━━━━━━━━━━━━━━━━━━━━━━━━━━━━━━━━━━━\u001b[0m \u001b[32m2.3/2.3 MB\u001b[0m \u001b[31m6.9 MB/s\u001b[0m eta \u001b[36m0:00:00\u001b[0ma \u001b[36m0:00:01\u001b[0m\n",
      "\u001b[?25hDownloading kiwisolver-1.4.8-cp313-cp313-macosx_10_13_x86_64.whl (66 kB)\n",
      "Downloading pillow-11.2.1-cp313-cp313-macosx_10_13_x86_64.whl (3.2 MB)\n",
      "\u001b[2K   \u001b[90m━━━━━━━━━━━━━━━━━━━━━━━━━━━━━━━━━━━━━━━━\u001b[0m \u001b[32m3.2/3.2 MB\u001b[0m \u001b[31m6.7 MB/s\u001b[0m eta \u001b[36m0:00:00\u001b[0ma \u001b[36m0:00:01\u001b[0m\n",
      "\u001b[?25hUsing cached pyparsing-3.2.3-py3-none-any.whl (111 kB)\n",
      "Using cached pytz-2025.2-py2.py3-none-any.whl (509 kB)\n",
      "Using cached tzdata-2025.2-py2.py3-none-any.whl (347 kB)\n",
      "Installing collected packages: pytz, tzdata, pyparsing, pillow, numpy, networkx, kiwisolver, fonttools, cycler, pandas, contourpy, matplotlib\n",
      "\u001b[2K   \u001b[90m━━━━━━━━━━━━━━━━━━━━━━━━━━━━━━━━━━━━━━━━\u001b[0m \u001b[32m12/12\u001b[0m [matplotlib]2\u001b[0m [matplotlib]\n",
      "\u001b[1A\u001b[2KSuccessfully installed contourpy-1.3.2 cycler-0.12.1 fonttools-4.58.0 kiwisolver-1.4.8 matplotlib-3.10.3 networkx-3.4.2 numpy-2.2.6 pandas-2.2.3 pillow-11.2.1 pyparsing-3.2.3 pytz-2025.2 tzdata-2025.2\n",
      "Note: you may need to restart the kernel to use updated packages.\n"
     ]
    }
   ],
   "source": [
    "# Installiert die benötigten Pakete mit dem akutell ausgewählten Python-Interpreter\n",
    "%pip install -U -r requirements.txt"
   ]
  },
  {
   "cell_type": "markdown",
   "id": "6abe986e",
   "metadata": {},
   "source": [
    "### Bibliotheks-Imports"
   ]
  },
  {
   "cell_type": "markdown",
   "id": "b50d402e",
   "metadata": {},
   "source": [
    "**_Import von Bibliotheken._** In der folgenden Zelle werden einige wichtige Bibliotheken importiert. Dies soll hier kurz erläutert werden. Verwenden Sie keine anderen Drittanbieterbibliotheken.\n",
    "\n",
    "- `typing.Any` und `typing.Callable`: Wird für Typanmerkungen in den Methodenspezifikationen benötigt.\n",
    "- `pathlib.Path`. Objektorientierte und platformunabhängige Darstellung von Dateipfaden.\n",
    "- `math`. Verschiedene Mathematische Funktionen wie _sqrt_ oder _sin_.\n",
    "- `dataclasses.dataclass`. Einfache Erstellung von Immuatablen Klassen.\n",
    "- `random`: Dies Bibliothek wird als Zufallsgenerator verwendet, und um _Seeds_ festzulegen, damit die Ergebnisse konsistent gehalten werden.\n",
    "- `pandas` und `numpy`: Ihr dürf numpy und DataFrames von pandas verwenden um Datensätze zu laden und anzupassen.\n",
    "- `networkx`: Diese Bibliothek wird verwendet, um Graph-Netzwerke zu speichern.\n",
    "- `matplotlib.pyplot`: Diese Bibliothek wird verwendet, um Bilder der Grafiken anzuzeigen.\n",
    "\n",
    "**_In der nächsten Codezelle muss nichts geändert werden._**"
   ]
  },
  {
   "cell_type": "code",
   "execution_count": 3,
   "id": "e0544094",
   "metadata": {},
   "outputs": [
    {
     "name": "stderr",
     "output_type": "stream",
     "text": [
      "Matplotlib is building the font cache; this may take a moment.\n"
     ]
    }
   ],
   "source": [
    "# Python Core libraries\n",
    "from typing import Any, Callable\n",
    "from pathlib import Path\n",
    "import math\n",
    "import random\n",
    "from dataclasses import dataclass\n",
    "\n",
    "# Allowed Third-party libraries\n",
    "import numpy as np\n",
    "import pandas as pd\n",
    "import networkx as nx\n",
    "import matplotlib.pyplot as plt\n",
    "\n",
    "random.seed(2025)"
   ]
  },
  {
   "cell_type": "markdown",
   "id": "2cf026bd",
   "metadata": {},
   "source": [
    "## Aufgabe 1 | Suche\n",
    "\n",
    "_Für insgesamt 8 Punkte_\n",
    "\n",
    "Sie erhalten ein Fluss-Netzwerk, das das Rohrsystem einer Stadt darstellt. Jede Kante des Graphen hat eine Kapazität, die die maximale Wassermenge angibt, die pro Minute durch dieses Rohr fließen kann. Es gibt eine `source` (Quelle, Knoten mit Index 0) und ein `target` (Senke, Knoten mit Index 9).\n",
    "\n",
    "---\n",
    "\n",
    "<details>\n",
    "<summary><strong>Tipp:</strong> Auf die Knoten und Kanten des Graphen in networkx zugreifen</summary>\n",
    "\n",
    "[Die Dokumentation ist hier zu finden.](https://networkx.org/documentation/stable/tutorial.html)\n",
    "\n",
    "**Alle Daten auslesen**\n",
    "```python\n",
    "# Die Knoten auslesen\n",
    "> list(G.nodes)\n",
    "[0,1,2,3,4,5,6,7,8,9,10]\n",
    "# Die Kanten auslesen\n",
    "> list(G.edges)\n",
    "[(0, 1),\n",
    " (0, 2),\n",
    " (1, 9),\n",
    " ...]\n",
    "# Die Kanten mit angehängten Daten auslesen\n",
    "> list(G.edges(data=True))\n",
    "[(0, 1, {'capacity': 57}),\n",
    " (0, 2, {'capacity': 41}),\n",
    " (1, 9, {'capacity': 59}),\n",
    " ...]\n",
    "```\n",
    "\n",
    "**Nachbarn auslesen**\n",
    "```python\n",
    "# Die Nachbarn von Knoten 0\n",
    "> list(G[0]) # oder list(G.neighbors(0)) oder list(G.successors(0))\n",
    "[1, 2]\n",
    "```\n",
    "\n",
    "**Kanten auslesen**\n",
    "```python\n",
    "# Die Daten der Kante 0 -> 1\n",
    "> G[0][1] # or G.edges[0,1]\n",
    "{'capacity': 57}\n",
    "```\n",
    "\n",
    "**Beispielhafte imperative Implementierung einer Tiefensuche**\n",
    "```python\n",
    "def dfs(G: nx.DiGraph, source: int, target: int) -> list[int] | None:\n",
    "    stack = [(source, [source])]\n",
    "    while stack:\n",
    "        (node, path) = stack.pop()\n",
    "        for next in G.neighbors(node):\n",
    "            if next in path:\n",
    "                continue\n",
    "            elif next == target:\n",
    "                return path + [next]\n",
    "            else:\n",
    "                stack.append((next, path + [next]))\n",
    "    return None\n",
    "dfs(G, 0, 10)\n",
    "# -> [0, 2, 4, 6, 10]\n",
    "```\n",
    "\n",
    "</details>"
   ]
  },
  {
   "cell_type": "markdown",
   "id": "1b7a8d22",
   "metadata": {},
   "source": [
    "#### Fluss-Netzwerk Generierung\n",
    "\n",
    "Im Folgenden definieren wir eine Funktion, die das zufällige Flussnetzwerk erzeugt, das in dieser Aufgabe verwendet wird.\n",
    "\n",
    "**_In der nächsten Codezelle muss nichts geändert werden._**"
   ]
  },
  {
   "cell_type": "code",
   "execution_count": 4,
   "id": "dd7dc17f",
   "metadata": {},
   "outputs": [
    {
     "ename": "ModuleNotFoundError",
     "evalue": "No module named 'scipy'",
     "output_type": "error",
     "traceback": [
      "\u001b[31m---------------------------------------------------------------------------\u001b[39m",
      "\u001b[31mModuleNotFoundError\u001b[39m                       Traceback (most recent call last)",
      "\u001b[36mCell\u001b[39m\u001b[36m \u001b[39m\u001b[32mIn[4]\u001b[39m\u001b[32m, line 58\u001b[39m\n\u001b[32m     55\u001b[39m     plt.show()\n\u001b[32m     57\u001b[39m G = generate_flow_network(\u001b[32m11\u001b[39m, \u001b[32m20\u001b[39m, \u001b[32m30\u001b[39m, \u001b[32m60\u001b[39m, \u001b[32m2\u001b[39m)\n\u001b[32m---> \u001b[39m\u001b[32m58\u001b[39m \u001b[43mplot_flow_network\u001b[49m\u001b[43m(\u001b[49m\u001b[43mG\u001b[49m\u001b[43m)\u001b[49m\n",
      "\u001b[36mCell\u001b[39m\u001b[36m \u001b[39m\u001b[32mIn[4]\u001b[39m\u001b[32m, line 43\u001b[39m, in \u001b[36mplot_flow_network\u001b[39m\u001b[34m(G, path)\u001b[39m\n\u001b[32m     36\u001b[39m \u001b[38;5;28;01mdef\u001b[39;00m\u001b[38;5;250m \u001b[39m\u001b[34mplot_flow_network\u001b[39m(G: nx.DiGraph, path: \u001b[38;5;28mlist\u001b[39m[\u001b[38;5;28mint\u001b[39m] | \u001b[38;5;28;01mNone\u001b[39;00m = \u001b[38;5;28;01mNone\u001b[39;00m):\n\u001b[32m     37\u001b[39m \u001b[38;5;250m    \u001b[39m\u001b[33;03m\"\"\"Plot the flow network using matplotlib and networkx.\u001b[39;00m\n\u001b[32m     38\u001b[39m \n\u001b[32m     39\u001b[39m \u001b[33;03m    Args:\u001b[39;00m\n\u001b[32m     40\u001b[39m \u001b[33;03m        G (nx.DiGraph): The flow network graph to plot.\u001b[39;00m\n\u001b[32m     41\u001b[39m \u001b[33;03m        path (list[int] | None, optional): A path through the network to highlight. Defaults to None.\u001b[39;00m\n\u001b[32m     42\u001b[39m \u001b[33;03m    \"\"\"\u001b[39;00m\n\u001b[32m---> \u001b[39m\u001b[32m43\u001b[39m     pos = \u001b[43mnx\u001b[49m\u001b[43m.\u001b[49m\u001b[43mkamada_kawai_layout\u001b[49m\u001b[43m(\u001b[49m\u001b[43mG\u001b[49m\u001b[43m)\u001b[49m\n\u001b[32m     44\u001b[39m     edge_colors = \u001b[33m'\u001b[39m\u001b[33mblack\u001b[39m\u001b[33m'\u001b[39m\n\u001b[32m     45\u001b[39m     \u001b[38;5;28;01mif\u001b[39;00m path:\n\u001b[32m     46\u001b[39m         \u001b[38;5;66;03m# Highlight the path in the graph\u001b[39;00m\n",
      "\u001b[36mFile \u001b[39m\u001b[32m/opt/anaconda3/envs/PythonEnv/lib/python3.13/site-packages/networkx/drawing/layout.py:713\u001b[39m, in \u001b[36mkamada_kawai_layout\u001b[39m\u001b[34m(G, dist, pos, weight, scale, center, dim)\u001b[39m\n\u001b[32m    710\u001b[39m         pos = \u001b[38;5;28mdict\u001b[39m(\u001b[38;5;28mzip\u001b[39m(G, np.linspace(\u001b[32m0\u001b[39m, \u001b[32m1\u001b[39m, \u001b[38;5;28mlen\u001b[39m(G))))\n\u001b[32m    711\u001b[39m pos_arr = np.array([pos[n] \u001b[38;5;28;01mfor\u001b[39;00m n \u001b[38;5;129;01min\u001b[39;00m G])\n\u001b[32m--> \u001b[39m\u001b[32m713\u001b[39m pos = \u001b[43m_kamada_kawai_solve\u001b[49m\u001b[43m(\u001b[49m\u001b[43mdist_mtx\u001b[49m\u001b[43m,\u001b[49m\u001b[43m \u001b[49m\u001b[43mpos_arr\u001b[49m\u001b[43m,\u001b[49m\u001b[43m \u001b[49m\u001b[43mdim\u001b[49m\u001b[43m)\u001b[49m\n\u001b[32m    715\u001b[39m pos = rescale_layout(pos, scale=scale) + center\n\u001b[32m    716\u001b[39m \u001b[38;5;28;01mreturn\u001b[39;00m \u001b[38;5;28mdict\u001b[39m(\u001b[38;5;28mzip\u001b[39m(G, pos))\n",
      "\u001b[36mFile \u001b[39m\u001b[32m/opt/anaconda3/envs/PythonEnv/lib/python3.13/site-packages/networkx/drawing/layout.py:725\u001b[39m, in \u001b[36m_kamada_kawai_solve\u001b[39m\u001b[34m(dist_mtx, pos_arr, dim)\u001b[39m\n\u001b[32m    719\u001b[39m \u001b[38;5;28;01mdef\u001b[39;00m\u001b[38;5;250m \u001b[39m\u001b[34m_kamada_kawai_solve\u001b[39m(dist_mtx, pos_arr, dim):\n\u001b[32m    720\u001b[39m     \u001b[38;5;66;03m# Anneal node locations based on the Kamada-Kawai cost-function,\u001b[39;00m\n\u001b[32m    721\u001b[39m     \u001b[38;5;66;03m# using the supplied matrix of preferred inter-node distances,\u001b[39;00m\n\u001b[32m    722\u001b[39m     \u001b[38;5;66;03m# and starting locations.\u001b[39;00m\n\u001b[32m    724\u001b[39m     \u001b[38;5;28;01mimport\u001b[39;00m\u001b[38;5;250m \u001b[39m\u001b[34;01mnumpy\u001b[39;00m\u001b[38;5;250m \u001b[39m\u001b[38;5;28;01mas\u001b[39;00m\u001b[38;5;250m \u001b[39m\u001b[34;01mnp\u001b[39;00m\n\u001b[32m--> \u001b[39m\u001b[32m725\u001b[39m     \u001b[38;5;28;01mimport\u001b[39;00m\u001b[38;5;250m \u001b[39m\u001b[34;01mscipy\u001b[39;00m\u001b[38;5;250m \u001b[39m\u001b[38;5;28;01mas\u001b[39;00m\u001b[38;5;250m \u001b[39m\u001b[34;01msp\u001b[39;00m\n\u001b[32m    727\u001b[39m     meanwt = \u001b[32m1e-3\u001b[39m\n\u001b[32m    728\u001b[39m     costargs = (np, \u001b[32m1\u001b[39m / (dist_mtx + np.eye(dist_mtx.shape[\u001b[32m0\u001b[39m]) * \u001b[32m1e-3\u001b[39m), meanwt, dim)\n",
      "\u001b[31mModuleNotFoundError\u001b[39m: No module named 'scipy'"
     ]
    }
   ],
   "source": [
    "# Code for generating a flow network and plotting it\n",
    "\n",
    "def generate_flow_network(num_nodes: int, num_edges: int, min_capacity: int, max_capacity: int, seed=2025) -> nx.Graph:\n",
    "    \"\"\"\n",
    "    Generate a random directed flow network with specified parameters.\n",
    "    \n",
    "    Returns:\n",
    "        A directed graph (DiGraph) with random capacities and costs on edges.\n",
    "        The graph is read-only to prevent unintended modifications.\n",
    "    \"\"\"\n",
    "    # Reset the random seed for reproducibility\n",
    "    random.seed(seed)\n",
    "    \n",
    "    # Need to distribute the edges among the nodes, ensuring that each node has at least one incoming and one outgoing edge.\n",
    "    distribute_amount = lambda x, n: [1 + ((remaining := x - n) // n) + (1 if i < remaining % n else 0) for i in range(n)] if n <= x else []\n",
    "    degrees = distribute_amount(num_edges, num_nodes - 1)\n",
    "    in_degree = [0] + random.sample(degrees, k=len(degrees))  # First node has no outgoing edges\n",
    "    out_degree = random.sample(degrees, k=len(degrees)) + [0]  # Last node has no outgoing edges\n",
    "\n",
    "    G = nx.DiGraph()\n",
    "    G.add_nodes_from(range(num_nodes))\n",
    "    \n",
    "    # Add additional edges to ensure the graph has the desired number of edges\n",
    "    for u in range(num_nodes):\n",
    "        for _ in range(out_degree[u]): \n",
    "            # Select a random node to connect to, ensuring it is not the same as u and does not already have an edge with u\n",
    "            try:\n",
    "                v = random.choice([n for n in G.nodes() if n != u and not G.has_edge(u, n) and not G.has_edge(n, u) and in_degree[n] > G.in_degree(n)]) \n",
    "            except IndexError as e:\n",
    "                v = random.choice([n for n in G.nodes() if n != u and not G.has_edge(u, n) and not G.has_edge(n, u) and in_degree[n] != 0])\n",
    "            capacity = random.randint(min_capacity, max_capacity)\n",
    "            G.add_edge(u, v, capacity=capacity)\n",
    "\n",
    "    return nx.restricted_view(G, [], [])\n",
    "\n",
    "def plot_flow_network(G: nx.DiGraph, path: list[int] | None = None):\n",
    "    \"\"\"Plot the flow network using matplotlib and networkx.\n",
    "\n",
    "    Args:\n",
    "        G (nx.DiGraph): The flow network graph to plot.\n",
    "        path (list[int] | None, optional): A path through the network to highlight. Defaults to None.\n",
    "    \"\"\"\n",
    "    pos = nx.kamada_kawai_layout(G)\n",
    "    edge_colors = 'black'\n",
    "    if path:\n",
    "        # Highlight the path in the graph\n",
    "        path_edges = list(zip(path, path[1:]))\n",
    "        edge_colors = ['blue' if (u, v) in path_edges else 'black' for u, v in G.edges()]\n",
    "    nx.draw_networkx(G, pos, node_color=['green']+ ['pink']*(len(G.nodes)-2) + ['orange'], arrowsize=10, with_labels=True, edge_color=edge_colors)\n",
    "\n",
    "    fig = plt.gcf()\n",
    "    fig.set_size_inches(6, 4)\n",
    "\n",
    "    plt.axis(\"off\")\n",
    "    plt.show()\n",
    "\n",
    "G = generate_flow_network(11, 20, 30, 60, 2)\n",
    "plot_flow_network(G)\n"
   ]
  },
  {
   "cell_type": "markdown",
   "id": "49234f4e",
   "metadata": {},
   "source": [
    "#### **(01.1.1)** Pfad mit maximalem Durchfluss\n",
    "\n",
    "_Für **4** Punkte_\n",
    "\n",
    "Finden Sie den Weg mit dem maximalen Fluss durch das Netz von `source` (Quelle) zu `target` (Senke). Welchen der in der Vorlesung vorgestellten Algorithmen würden Sie für diese Aufgabe verwenden, und warum?\n",
    "\n",
    "Schreiben Sie Ihren Ansatz auf, bevor Sie ihn in Python umsetzen."
   ]
  },
  {
   "cell_type": "markdown",
   "id": "e8639faa",
   "metadata": {},
   "source": [
    "\n",
    "> \n",
    "> Hier kann eure Antwort eingegeben werden.\n",
    "> "
   ]
  },
  {
   "cell_type": "code",
   "execution_count": null,
   "id": "1fd5580c",
   "metadata": {},
   "outputs": [],
   "source": [
    "# Implementation of task 01.1.1\n",
    "\n",
    "def path_with_maximum_capacity(G: nx.DiGraph, source: int, target: int) -> list[int]:\n",
    "    \"\"\"\n",
    "    Find the path with maximum capacity from source to target in the flow network.\n",
    "\n",
    "    Args:\n",
    "        G (nx.DiGraph): The flow network graph.\n",
    "        source (int): The source node.\n",
    "        target (int): The target node.\n",
    "\n",
    "    Returns:\n",
    "        list[int]: The path with maximum capacity from source to target.\n",
    "    \"\"\"\n",
    "    # TODO: Implement this\n",
    "\n",
    "    return []\n",
    "\n",
    "path = path_with_maximum_capacity(G, 0, 9)\n",
    "plot_flow_network(G, path)"
   ]
  },
  {
   "cell_type": "markdown",
   "id": "d82f0ed6",
   "metadata": {},
   "source": [
    "#### **(01.1.2)** Große Netzwerke\n",
    "\n",
    "_Für **2** Punkte_\n",
    "\n",
    "In den folgenden Codezellen haben werden größere Netze erzeugt. Was passiert, wenn du deinen Code auf diesen Netzen ausführst? Erkläre, warum!\n",
    "\n",
    "**_In den nächsten Codezellen muss nichts geändert werden._**"
   ]
  },
  {
   "cell_type": "code",
   "execution_count": null,
   "id": "e32a144a",
   "metadata": {},
   "outputs": [],
   "source": [
    "# You do not need to modify the code in this cell.\n",
    "# You may however do some experiments with the parameters to see how your code behaves.\n",
    "\n",
    "G_large = generate_flow_network(21, 80, 25, 60)\n",
    "\n",
    "path_with_maximum_capacity(G_large, 0, 20)"
   ]
  },
  {
   "cell_type": "code",
   "execution_count": null,
   "id": "d0be5074",
   "metadata": {},
   "outputs": [],
   "source": [
    "G_huge = generate_flow_network(50, 200, 25, 60)\n",
    "\n",
    "path_with_maximum_capacity(G_huge, 0, 49)"
   ]
  },
  {
   "cell_type": "markdown",
   "id": "3d99db88",
   "metadata": {},
   "source": [
    "\n",
    "> \n",
    "> Hier kann eure Antwort eingegeben werden.\n",
    "> "
   ]
  },
  {
   "cell_type": "markdown",
   "id": "dc9fc00e",
   "metadata": {},
   "source": [
    "#### **(01.1.3)** Kosten pro Liter\n",
    "\n",
    "_Für **2** Punkte_\n",
    "\n",
    "Angenommen, jedes Rohr hat auch Kosten pro Liter Wasser, der durch das Rohr fließt, und Sie möchten die Gesamtkosten minimieren, während Sie den Durchfluss maximieren.\n",
    "Was müssen Sie in Ihrer Implementierung für die Funktion `path_with_maximum_capacity_minimum_cost` ändern, um dies zu unterstützen?\n",
    "\n",
    "Schreiben Sie Ihren Ansatz auf, bevor Sie ihn in Python umsetzen."
   ]
  },
  {
   "cell_type": "markdown",
   "id": "6e5a767c",
   "metadata": {},
   "source": [
    "#### Kosten an die Kanten anfügen\n",
    "\n",
    "Eine Funktion, die dem Graphen zufällige Kosten hinzufügt.\n",
    "\n",
    "**_In der nächsten Codezelle muss nichts geändert werden._**"
   ]
  },
  {
   "cell_type": "code",
   "execution_count": null,
   "id": "1a0f6285",
   "metadata": {},
   "outputs": [],
   "source": [
    "def graph_with_edge_costs(G: nx.DiGraph, min_cost: int, max_cost: int, seed: int = 2025) -> None:\n",
    "    \"\"\"\n",
    "    Add random costs to the edges of the graph.\n",
    "\n",
    "    Args:\n",
    "        G (nx.DiGraph): The flow network graph.\n",
    "        min_cost (int): Minimum cost for edges.\n",
    "        max_cost (int): Maximum cost for edges.\n",
    "    \"\"\"\n",
    "    random.seed(seed)\n",
    "    G = nx.DiGraph(G)  # Create a copy of the graph to avoid modifying the original\n",
    "    for u, v in G.edges():\n",
    "        cost = random.randint(min_cost, max_cost)\n",
    "        G[u][v]['cost'] = cost\n",
    "    return nx.restricted_view(G, [], [])\n",
    "\n",
    "G_with_costs = graph_with_edge_costs(G, 20, 50)"
   ]
  },
  {
   "cell_type": "markdown",
   "id": "806ab6fa",
   "metadata": {},
   "source": [
    "\n",
    "> \n",
    "> Hier kann eure Antwort eingegeben werden.\n",
    "> "
   ]
  },
  {
   "cell_type": "code",
   "execution_count": null,
   "id": "8fd42777",
   "metadata": {},
   "outputs": [],
   "source": [
    "# Implementation of task 01.1.3\n",
    "\n",
    "def path_with_maximum_capacity_minimum_cost(G: nx.DiGraph, source: int, target: int) -> list[int]:\n",
    "    \"\"\"\n",
    "    Find the path with maximum capacity and minimum cost from source to target in the flow network.\n",
    "\n",
    "    Args:\n",
    "        G (nx.DiGraph): The flow network graph.\n",
    "        source (int): The source node.\n",
    "        target (int): The target node.\n",
    "\n",
    "    Returns:\n",
    "        list[int]: The path with maximum capacity and minimum cost from source to target.\n",
    "    \"\"\"\n",
    "    \n",
    "    # TODO: Implement this\n",
    "    \n",
    "    return []\n",
    "\n",
    "path = path_with_maximum_capacity_minimum_cost(G_with_costs, 0, 9)\n",
    "plot_flow_network(G, path)"
   ]
  },
  {
   "cell_type": "markdown",
   "id": "e26abe7d",
   "metadata": {},
   "source": [
    "## Aufgabe 2 | Heuristische Suche mit A*\n",
    "\n",
    "_Für insgesamt 12 Punkte_"
   ]
  },
  {
   "cell_type": "markdown",
   "id": "98101391",
   "metadata": {},
   "source": [
    "In der gesamten Aufgabe werden wir den [GTFS.de](https://gtfs.de/de/feeds/) Datensatz zum Deutschen Schienennetz verwenden. Wir wollen so einen A* Algorithmus implementieren, welcher es uns ermöglicht die schnellsten Verbindungen zu finden.\n",
    "\n",
    "<div class=\"alert-warning\" style=\"padding: 1rem\">\n",
    "Zur vereinfachung ignorieren wir in dieser Aufgabe die unterschiedlichen Ankunfts- und Abfahrtszeiten. Wir betrachten lediglich die Stationen sowie die Fahrtdauer."
   ]
  },
  {
   "cell_type": "markdown",
   "id": "69116b5f",
   "metadata": {},
   "source": [
    "**_Datenmodell._** In der folgenden Zelle werden zwei Klassen definiert, um die Daten darzustellen.\n",
    "\n",
    "- `Connection` stellt eine Verbindung von einem `Stop` zu einem anderen `target_stop_id` dar. Diese Verbindung hat eine Reisedauer von `travel_minutes`.\n",
    "- `Stop` stellt eine Haltestelle mit einer eindeutigen `id`, einem `name` und `connections` dar. Eine Haltestelle hat mehrere _ausgehende_ `Connections`. Zudem werden in `Stop` noch die `lat` bzw. `lon` Koordinaten der Haltestelle gespeichert.\n",
    "\n",
    "**_An der nächsten Code Zelle darf nichts verändert werden._**"
   ]
  },
  {
   "cell_type": "code",
   "execution_count": 5,
   "id": "b0cfe936",
   "metadata": {},
   "outputs": [],
   "source": [
    "@dataclass(frozen=True)\n",
    "class Connection:\n",
    "    \"\"\"A connection, from one stop to the target stop that takes some time.\"\"\"\n",
    "\n",
    "    target_stop_id: str\n",
    "    travel_minutes: float\n",
    "\n",
    "\n",
    "@dataclass\n",
    "class Stop:\n",
    "    \"\"\"A single stop with outgoing connections.\"\"\"\n",
    "\n",
    "    id: str\n",
    "    name: str\n",
    "    lat: float\n",
    "    lon: float\n",
    "    connections: frozenset[Connection]"
   ]
  },
  {
   "cell_type": "markdown",
   "id": "41c78388",
   "metadata": {},
   "source": [
    "#### **(01.2.1)** Import des Datensatzes\n",
    "\n",
    "_Für **2** Punkte_\n"
   ]
  },
  {
   "cell_type": "markdown",
   "id": "335432a4",
   "metadata": {},
   "source": [
    "In der folgenden Zelle soll der Datensatz _Schienenfernverkehr Deutschland_ geladen werden. Dieser befindet sich im Ordner `task_2_data` und wurde gemäß [Creative Commons 4.0](https://creativecommons.org/licenses/by/4.0/) Lizenz von [GTFS.de](https://gtfs.de/de/feeds/) heruntergeladen.\n",
    "\n",
    "In diesem Datensatz finden sich verschiedene Dateien.\n",
    "Alle Daten sind im CSV-Format (\"Comma-Separated Values\") gespeicher. Dieses speichert tabellarische Daten, bei denen die Werte einer Zeile durch Kommata getrennt sind. Jede Zeile entspricht einer Datensatzzeile, die erste Zeile enthält normalerweise die Spaltenüberschriften.\n",
    "\n",
    "Um in Python über die Zeilen einer CSV-Datei zu iterieren, kann folgender Code verwendet werden:\n",
    "\n",
    "```python\n",
    "import csv\n",
    "\n",
    "with open(\"stops.csv\", encoding=\"utf-8\") as f:\n",
    "    reader = csv.DictReader(f)\n",
    "    \n",
    "    # or do whatever you want with the reader iterable\n",
    "    map(lambda row: print(row), reader)\n",
    "```\n",
    "\n",
    "Wir benötigen nur zwei Dateien des Datensatzes: `stops.csv` und `stop_times.csv`. Deren Inhalt ist im folgenden kurz erklärt.\n",
    "\n",
    "Die Datei `stops.csv` enthält alle verfügbaren Haltestellen im Verkehrsnetz.\n",
    "Jede Zeile beschreibt eine Haltestelle anhand von vier wesentlichen Attributen:\n",
    "- `stop_id`: Eine eindeutige Identifikationsnummer für die Haltestelle.\n",
    "- `stop_name`: Der Name der Haltestelle (z.B. \"Central Station\").\n",
    "- `stop_lat`: Die geografische Breite der Haltestelle (Latitude).\n",
    "- `stop_lon`: Die geografische Länge der Haltestelle (Longitude).\n",
    "\n",
    "Die Datei `stop_times.csv` enthält die Reihenfolge, in der Haltestellen im Rahmen einer Fahrt (`trip_id`) besucht werden, sowie die Ankunfts- und Abfahrtszeiten.\n",
    "Jede Zeile beschreibt einen Halt an einer Haltestelle innerhalb einer bestimmten Fahrt mit folgenden Informationen:\n",
    "- `trip_id`: Eine ID, die eine spezifische Fahrt beschreibt.\n",
    "- `arrival_time`: Die Ankunftszeit an der Haltestelle (im Format `HH:MM:SS`).\n",
    "- `departure_time`: Die Abfahrtszeit von der Haltestelle (ebenfalls `HH:MM:SS`).\n",
    "- `stop_id`: Die ID der Haltestelle.\n",
    "- `stop_sequence`: Die Reihenfolge dieses Haltes innerhalb der Fahrt.\n",
    "\n",
    "_Tatsächlich enthalten beide Dateien weitere Attribute, diese sind für die Bearbeitung der Aufgabe allerdings nicht notwendig._\n",
    "\n",
    "\n",
    "Vervollständige nun das vorgegebene Codegerüst, um alle `Stop`s mit ihren `Connection`s aus dem Datensatz zu laden.\n",
    "\n",
    "\n",
    "---\n",
    "\n",
    "<details>\n",
    "<summary>Tipp um die Kanten des Graphen zu \"parsen\"</summary>\n",
    "\n",
    "Um die Kanten des Graphen aus den Daten zu parsen, betrachtet man die aufeinanderfolgenden Einträge innerhalb eines Trips (aus der Datei `stop_times.csv`).\n",
    "Immer wenn ein Halt (`stop_id`) auf den nächsten Halt folgt (`stop_sequence`), entsteht eine gerichtete Verbindung von der ersten zur zweiten Haltestelle.\n",
    "Die Fahrzeit wird dabei als Differenz zwischen Abfahrtszeit am ersten Halt und Ankunftszeit am zweiten Halt berechnet.\n",
    "\n",
    "</details>"
   ]
  },
  {
   "cell_type": "code",
   "execution_count": 44,
   "id": "850d65af",
   "metadata": {},
   "outputs": [
    {
     "name": "stdout",
     "output_type": "stream",
     "text": [
      "Zeilen gelesen:  68084\n",
      "Connections gesamt:  60826\n",
      "Ausgelassen, weil Endstation:  318\n",
      "Successfully loaded 1565 stops!\n",
      "[Stop(id='653426', name=\"'s-Hertogenbosch\", lat=51.69054, lon=5.293723, connections=frozenset()), Stop(id='440518', name=\"'s-Hertogenbosch\", lat=51.69054, lon=5.293723, connections=frozenset({Connection(target_stop_id='410976', travel_minutes=140.0), Connection(target_stop_id='14242', travel_minutes=199.0), Connection(target_stop_id='565816', travel_minutes=140.0), Connection(target_stop_id='373031', travel_minutes=138.0), Connection(target_stop_id='373031', travel_minutes=141.0), Connection(target_stop_id='14242', travel_minutes=278.0), Connection(target_stop_id='410976', travel_minutes=138.0), Connection(target_stop_id='14242', travel_minutes=197.0), Connection(target_stop_id='410976', travel_minutes=141.0), Connection(target_stop_id='565816', travel_minutes=138.0), Connection(target_stop_id='565816', travel_minutes=141.0), Connection(target_stop_id='133731', travel_minutes=65.0), Connection(target_stop_id='316498', travel_minutes=369.0), Connection(target_stop_id='133731', travel_minutes=62.0), Connection(target_stop_id='565816', travel_minutes=142.0), Connection(target_stop_id='565816', travel_minutes=139.0), Connection(target_stop_id='373031', travel_minutes=140.0), Connection(target_stop_id='133731', travel_minutes=63.0), Connection(target_stop_id='133731', travel_minutes=66.0)})), Stop(id='525449', name='Aachen Hbf', lat=50.7678, lon=6.091499, connections=frozenset({Connection(target_stop_id='373031', travel_minutes=94.0), Connection(target_stop_id='405890', travel_minutes=152.0), Connection(target_stop_id='373031', travel_minutes=97.0), Connection(target_stop_id='403363', travel_minutes=328.0), Connection(target_stop_id='373031', travel_minutes=100.0), Connection(target_stop_id='513785', travel_minutes=347.0), Connection(target_stop_id='513785', travel_minutes=344.0), Connection(target_stop_id='373031', travel_minutes=115.0), Connection(target_stop_id='297020', travel_minutes=34.0), Connection(target_stop_id='373031', travel_minutes=95.0), Connection(target_stop_id='513785', travel_minutes=336.0), Connection(target_stop_id='373031', travel_minutes=98.0), Connection(target_stop_id='513785', travel_minutes=348.0), Connection(target_stop_id='439809', travel_minutes=284.0), Connection(target_stop_id='513785', travel_minutes=328.0), Connection(target_stop_id='297020', travel_minutes=29.0), Connection(target_stop_id='405890', travel_minutes=93.0), Connection(target_stop_id='297020', travel_minutes=32.0), Connection(target_stop_id='297020', travel_minutes=38.0), Connection(target_stop_id='373031', travel_minutes=96.0), Connection(target_stop_id='373031', travel_minutes=47.0), Connection(target_stop_id='588301', travel_minutes=47.0), Connection(target_stop_id='297020', travel_minutes=30.0), Connection(target_stop_id='297020', travel_minutes=27.0)})), Stop(id='253956', name='Aachen Süd(Gr)', lat=50.731915, lon=6.04541, connections=frozenset()), Stop(id='588301', name='Aachen Süd(Gr)', lat=50.731915, lon=6.04541, connections=frozenset({Connection(target_stop_id='297020', travel_minutes=23.0), Connection(target_stop_id='297020', travel_minutes=26.0), Connection(target_stop_id='373031', travel_minutes=97.0), Connection(target_stop_id='405890', travel_minutes=155.0), Connection(target_stop_id='373031', travel_minutes=100.0), Connection(target_stop_id='373031', travel_minutes=103.0), Connection(target_stop_id='588301', travel_minutes=0.0), Connection(target_stop_id='373031', travel_minutes=99.0), Connection(target_stop_id='405890', travel_minutes=96.0), Connection(target_stop_id='373031', travel_minutes=118.0), Connection(target_stop_id='373031', travel_minutes=102.0), Connection(target_stop_id='297020', travel_minutes=21.0), Connection(target_stop_id='373031', travel_minutes=50.0), Connection(target_stop_id='373031', travel_minutes=98.0), Connection(target_stop_id='297020', travel_minutes=17.0)})), Stop(id='544624', name='Aachen, Hauptbahnhof', lat=50.767723, lon=6.092051, connections=frozenset()), Stop(id='583764', name='Aalen Hauptbahnhof', lat=48.841602, lon=10.096031, connections=frozenset()), Stop(id='387574', name='Aalen Hbf', lat=48.84168, lon=10.09613, connections=frozenset({Connection(target_stop_id='580204', travel_minutes=84.0), Connection(target_stop_id='128291', travel_minutes=18.0), Connection(target_stop_id='580204', travel_minutes=83.0), Connection(target_stop_id='189259', travel_minutes=248.0), Connection(target_stop_id='387574', travel_minutes=2.0), Connection(target_stop_id='580204', travel_minutes=85.0), Connection(target_stop_id='649968', travel_minutes=30.0), Connection(target_stop_id='649968', travel_minutes=36.0), Connection(target_stop_id='79653', travel_minutes=54.0), Connection(target_stop_id='649968', travel_minutes=29.0)})), Stop(id='195720', name='Altena(Westf)', lat=51.302013, lon=7.668693, connections=frozenset({Connection(target_stop_id='515428', travel_minutes=138.0), Connection(target_stop_id='496764', travel_minutes=309.0), Connection(target_stop_id='128067', travel_minutes=59.0)})), Stop(id='486560', name='Altena(Westf)', lat=51.301956, lon=7.668576, connections=frozenset({Connection(target_stop_id='69722', travel_minutes=49.0), Connection(target_stop_id='524862', travel_minutes=10.0), Connection(target_stop_id='69722', travel_minutes=50.0)}))]\n"
     ]
    }
   ],
   "source": [
    "# Implementation of task 01.2.1\n",
    "import csv \n",
    "\n",
    "def parse_stops(base_dir: Path) -> list[Stop]:\n",
    "    \"\"\"Parses all stops from the given dataset.\"\"\"\n",
    "    stoplist = {}\n",
    "    with open(str(base_dir) + \"/stop_times.csv\", encoding = \"utf-8\") as f1, open(str(base_dir) + \"/stops.csv\", encoding = \"utf-8\") as f2:\n",
    "        reader1 = csv.DictReader(f1)\n",
    "        reader2 = csv.DictReader(f2)\n",
    "        curr = -1\n",
    "        trip_stops = []\n",
    "\n",
    "        # helper variables\n",
    "        rows_read = 0\n",
    "        total_connections = 0\n",
    "        final_stations = 0\n",
    "\n",
    "        for row in reader2:\n",
    "            stoplist[row[\"stop_id\"]] = Stop(row[\"stop_id\"], row[\"stop_name\"], float(row[\"stop_lat\"]), float(row[\"stop_lon\"]), frozenset())\n",
    "        for row in reader1:\n",
    "            if int(row['stop_sequence']) > curr:\n",
    "                trip_stops.append((row['arrival_time'],row['departure_time'],row['stop_id']))\n",
    "                curr = int(row['stop_sequence'])\n",
    "            else:\n",
    "                index = 0\n",
    "                for _, departure_time, stop_id in trip_stops:\n",
    "                    stop = stoplist[stop_id]\n",
    "                    if not stop:\n",
    "                        continue\n",
    "                    if index + 1 < len(trip_stops):\n",
    "                        hd, md, sd = departure_time.split(\":\")\n",
    "                        ha, ma, sa = trip_stops[index + 1][0].split(\":\")\n",
    "                        total_m = float((int(hd) - int(ha)) * 60 + (int(md) - int(ma)) + (int(sd) - int(sa)) / 60)\n",
    "                        new_conn = Connection(trip_stops[index + 1][2], total_m)\n",
    "                        stop.connections = stop.connections.union({new_conn})\n",
    "                        total_connections += 1\n",
    "                    else:\n",
    "                        final_stations += 1\n",
    "                curr = -1\n",
    "                trip_stops.clear()\n",
    "            rows_read += 1\n",
    "        print(\"Zeilen gelesen: \", rows_read)\n",
    "        print(\"Connections gesamt: \", total_connections)\n",
    "        print(\"Ausgelassen, weil Endstation: \", final_stations)\n",
    "    return list(stoplist.values())\n",
    "\n",
    "# Load the stops from the dataset\n",
    "stops = parse_stops(Path(\"task_2_data\"))\n",
    "\n",
    "print(f\"Successfully loaded {len(stops)} stops!\")\n",
    "\n",
    "# Test the output\n",
    "print(stops[0:10])"
   ]
  },
  {
   "cell_type": "markdown",
   "id": "55f46690",
   "metadata": {},
   "source": [
    "<div class=\"alert-danger\" style=\"padding: 1rem\">\n",
    "Solltet ihr die vorherige Aufgabe nicht lösen können, führt folgende Code Zelle aus, um die vorgefertigten Daten zu laden und die weiteren Aufgaben bearbeiten zu können."
   ]
  },
  {
   "cell_type": "code",
   "execution_count": 45,
   "id": "76013549",
   "metadata": {},
   "outputs": [
    {
     "name": "stdout",
     "output_type": "stream",
     "text": [
      "Successfully loaded 1565 stops (from failsafe data)!\n",
      "[Stop(id='653426', name=\"'s-Hertogenbosch\", lat=51.69054, lon=5.293723, connections=[]), Stop(id='440518', name=\"'s-Hertogenbosch\", lat=51.69054, lon=5.293723, connections=[Connection(target_stop_id='105307', travel_minutes=28.0), Connection(target_stop_id='105307', travel_minutes=28.0), Connection(target_stop_id='105307', travel_minutes=28.0), Connection(target_stop_id='105307', travel_minutes=28.0), Connection(target_stop_id='105307', travel_minutes=28.0), Connection(target_stop_id='105307', travel_minutes=28.0), Connection(target_stop_id='105307', travel_minutes=28.0), Connection(target_stop_id='105307', travel_minutes=27.0), Connection(target_stop_id='105307', travel_minutes=28.0), Connection(target_stop_id='105307', travel_minutes=27.0), Connection(target_stop_id='105307', travel_minutes=27.0), Connection(target_stop_id='105307', travel_minutes=28.0), Connection(target_stop_id='105307', travel_minutes=28.0), Connection(target_stop_id='105307', travel_minutes=28.0), Connection(target_stop_id='105307', travel_minutes=28.0), Connection(target_stop_id='105307', travel_minutes=28.0), Connection(target_stop_id='105307', travel_minutes=28.0), Connection(target_stop_id='105307', travel_minutes=28.0), Connection(target_stop_id='105307', travel_minutes=28.0), Connection(target_stop_id='105307', travel_minutes=28.0), Connection(target_stop_id='105307', travel_minutes=27.0), Connection(target_stop_id='105307', travel_minutes=28.0), Connection(target_stop_id='105307', travel_minutes=28.0), Connection(target_stop_id='105307', travel_minutes=28.0), Connection(target_stop_id='105307', travel_minutes=28.0), Connection(target_stop_id='105307', travel_minutes=27.0), Connection(target_stop_id='105307', travel_minutes=28.0), Connection(target_stop_id='105307', travel_minutes=28.0), Connection(target_stop_id='105307', travel_minutes=28.0), Connection(target_stop_id='105307', travel_minutes=28.0), Connection(target_stop_id='105307', travel_minutes=28.0), Connection(target_stop_id='105307', travel_minutes=28.0), Connection(target_stop_id='105307', travel_minutes=28.0), Connection(target_stop_id='105307', travel_minutes=28.0), Connection(target_stop_id='105307', travel_minutes=28.0), Connection(target_stop_id='105307', travel_minutes=28.0), Connection(target_stop_id='105307', travel_minutes=31.0), Connection(target_stop_id='105307', travel_minutes=28.0), Connection(target_stop_id='105307', travel_minutes=28.0), Connection(target_stop_id='105307', travel_minutes=28.0), Connection(target_stop_id='105307', travel_minutes=28.0), Connection(target_stop_id='105307', travel_minutes=28.0), Connection(target_stop_id='105307', travel_minutes=27.0), Connection(target_stop_id='105307', travel_minutes=28.0), Connection(target_stop_id='105307', travel_minutes=28.0), Connection(target_stop_id='105307', travel_minutes=28.0), Connection(target_stop_id='105307', travel_minutes=28.0), Connection(target_stop_id='105307', travel_minutes=28.0), Connection(target_stop_id='105307', travel_minutes=27.0), Connection(target_stop_id='105307', travel_minutes=28.0), Connection(target_stop_id='105307', travel_minutes=28.0), Connection(target_stop_id='105307', travel_minutes=28.0)]), Stop(id='525449', name='Aachen Hbf', lat=50.7678, lon=6.091499, connections=[Connection(target_stop_id='410976', travel_minutes=82.0), Connection(target_stop_id='588301', travel_minutes=3.0), Connection(target_stop_id='410976', travel_minutes=83.0), Connection(target_stop_id='410976', travel_minutes=84.0), Connection(target_stop_id='588301', travel_minutes=3.0), Connection(target_stop_id='410976', travel_minutes=36.0), Connection(target_stop_id='373031', travel_minutes=36.0), Connection(target_stop_id='373031', travel_minutes=36.0), Connection(target_stop_id='373031', travel_minutes=85.0), Connection(target_stop_id='588301', travel_minutes=3.0), Connection(target_stop_id='410976', travel_minutes=36.0), Connection(target_stop_id='588301', travel_minutes=3.0), Connection(target_stop_id='373031', travel_minutes=36.0), Connection(target_stop_id='373031', travel_minutes=85.0), Connection(target_stop_id='373031', travel_minutes=38.0), Connection(target_stop_id='588301', travel_minutes=3.0), Connection(target_stop_id='373031', travel_minutes=38.0), Connection(target_stop_id='588301', travel_minutes=3.0), Connection(target_stop_id='588301', travel_minutes=3.0), Connection(target_stop_id='588301', travel_minutes=3.0), Connection(target_stop_id='373031', travel_minutes=80.0), Connection(target_stop_id='588301', travel_minutes=3.0), Connection(target_stop_id='588301', travel_minutes=4.0), Connection(target_stop_id='373031', travel_minutes=36.0), Connection(target_stop_id='410976', travel_minutes=36.0), Connection(target_stop_id='410976', travel_minutes=36.0), Connection(target_stop_id='410976', travel_minutes=36.0), Connection(target_stop_id='588301', travel_minutes=3.0), Connection(target_stop_id='588301', travel_minutes=3.0), Connection(target_stop_id='410976', travel_minutes=82.0), Connection(target_stop_id='373031', travel_minutes=87.0), Connection(target_stop_id='373031', travel_minutes=80.0), Connection(target_stop_id='588301', travel_minutes=3.0), Connection(target_stop_id='373031', travel_minutes=84.0), Connection(target_stop_id='588301', travel_minutes=3.0), Connection(target_stop_id='588301', travel_minutes=3.0), Connection(target_stop_id='588301', travel_minutes=3.0), Connection(target_stop_id='373031', travel_minutes=36.0), Connection(target_stop_id='588301', travel_minutes=3.0), Connection(target_stop_id='410976', travel_minutes=36.0), Connection(target_stop_id='588301', travel_minutes=3.0), Connection(target_stop_id='373031', travel_minutes=36.0), Connection(target_stop_id='410976', travel_minutes=84.0), Connection(target_stop_id='588301', travel_minutes=3.0), Connection(target_stop_id='373031', travel_minutes=36.0), Connection(target_stop_id='588301', travel_minutes=3.0), Connection(target_stop_id='373031', travel_minutes=36.0), Connection(target_stop_id='588301', travel_minutes=3.0), Connection(target_stop_id='373031', travel_minutes=36.0), Connection(target_stop_id='410976', travel_minutes=36.0), Connection(target_stop_id='373031', travel_minutes=36.0), Connection(target_stop_id='588301', travel_minutes=3.0), Connection(target_stop_id='588301', travel_minutes=3.0), Connection(target_stop_id='373031', travel_minutes=36.0), Connection(target_stop_id='588301', travel_minutes=3.0), Connection(target_stop_id='373031', travel_minutes=84.0), Connection(target_stop_id='373031', travel_minutes=84.0), Connection(target_stop_id='588301', travel_minutes=3.0), Connection(target_stop_id='373031', travel_minutes=36.0), Connection(target_stop_id='588301', travel_minutes=3.0), Connection(target_stop_id='410976', travel_minutes=83.0), Connection(target_stop_id='373031', travel_minutes=36.0), Connection(target_stop_id='373031', travel_minutes=36.0), Connection(target_stop_id='373031', travel_minutes=36.0), Connection(target_stop_id='373031', travel_minutes=80.0), Connection(target_stop_id='373031', travel_minutes=80.0), Connection(target_stop_id='373031', travel_minutes=85.0), Connection(target_stop_id='373031', travel_minutes=80.0), Connection(target_stop_id='410976', travel_minutes=36.0), Connection(target_stop_id='373031', travel_minutes=36.0), Connection(target_stop_id='373031', travel_minutes=80.0), Connection(target_stop_id='373031', travel_minutes=84.0), Connection(target_stop_id='410976', travel_minutes=36.0), Connection(target_stop_id='588301', travel_minutes=3.0), Connection(target_stop_id='410976', travel_minutes=83.0), Connection(target_stop_id='410976', travel_minutes=83.0), Connection(target_stop_id='373031', travel_minutes=36.0), Connection(target_stop_id='373031', travel_minutes=84.0), Connection(target_stop_id='373031', travel_minutes=36.0), Connection(target_stop_id='373031', travel_minutes=36.0), Connection(target_stop_id='588301', travel_minutes=3.0), Connection(target_stop_id='588301', travel_minutes=3.0), Connection(target_stop_id='588301', travel_minutes=3.0), Connection(target_stop_id='373031', travel_minutes=80.0), Connection(target_stop_id='373031', travel_minutes=85.0), Connection(target_stop_id='373031', travel_minutes=36.0), Connection(target_stop_id='373031', travel_minutes=36.0), Connection(target_stop_id='410976', travel_minutes=36.0), Connection(target_stop_id='588301', travel_minutes=3.0), Connection(target_stop_id='474266', travel_minutes=24.0), Connection(target_stop_id='474266', travel_minutes=18.0), Connection(target_stop_id='474266', travel_minutes=24.0), Connection(target_stop_id='474266', travel_minutes=24.0), Connection(target_stop_id='474266', travel_minutes=18.0), Connection(target_stop_id='474266', travel_minutes=24.0), Connection(target_stop_id='474266', travel_minutes=18.0), Connection(target_stop_id='474266', travel_minutes=24.0), Connection(target_stop_id='474266', travel_minutes=20.0), Connection(target_stop_id='668547', travel_minutes=15.0), Connection(target_stop_id='668547', travel_minutes=14.0), Connection(target_stop_id='474266', travel_minutes=20.0), Connection(target_stop_id='474266', travel_minutes=20.0), Connection(target_stop_id='474266', travel_minutes=22.0), Connection(target_stop_id='668547', travel_minutes=15.0), Connection(target_stop_id='668547', travel_minutes=15.0), Connection(target_stop_id='474266', travel_minutes=19.0), Connection(target_stop_id='474266', travel_minutes=20.0), Connection(target_stop_id='474266', travel_minutes=22.0), Connection(target_stop_id='474266', travel_minutes=22.0), Connection(target_stop_id='474266', travel_minutes=20.0)]), Stop(id='253956', name='Aachen Süd(Gr)', lat=50.731915, lon=6.04541, connections=[]), Stop(id='588301', name='Aachen Süd(Gr)', lat=50.731915, lon=6.04541, connections=[Connection(target_stop_id='525449', travel_minutes=3.0), Connection(target_stop_id='297020', travel_minutes=20.0), Connection(target_stop_id='525449', travel_minutes=2.0), Connection(target_stop_id='525449', travel_minutes=3.0), Connection(target_stop_id='297020', travel_minutes=20.0), Connection(target_stop_id='525449', travel_minutes=3.0), Connection(target_stop_id='525449', travel_minutes=3.0), Connection(target_stop_id='525449', travel_minutes=3.0), Connection(target_stop_id='525449', travel_minutes=3.0), Connection(target_stop_id='297020', travel_minutes=20.0), Connection(target_stop_id='525449', travel_minutes=3.0), Connection(target_stop_id='297020', travel_minutes=20.0), Connection(target_stop_id='525449', travel_minutes=3.0), Connection(target_stop_id='525449', travel_minutes=3.0), Connection(target_stop_id='525449', travel_minutes=3.0), Connection(target_stop_id='297020', travel_minutes=20.0), Connection(target_stop_id='525449', travel_minutes=3.0), Connection(target_stop_id='297020', travel_minutes=20.0), Connection(target_stop_id='297020', travel_minutes=20.0), Connection(target_stop_id='297020', travel_minutes=20.0), Connection(target_stop_id='525449', travel_minutes=4.0), Connection(target_stop_id='297020', travel_minutes=20.0), Connection(target_stop_id='297020', travel_minutes=28.0), Connection(target_stop_id='525449', travel_minutes=3.0), Connection(target_stop_id='525449', travel_minutes=3.0), Connection(target_stop_id='525449', travel_minutes=3.0), Connection(target_stop_id='525449', travel_minutes=3.0), Connection(target_stop_id='297020', travel_minutes=20.0), Connection(target_stop_id='297020', travel_minutes=20.0), Connection(target_stop_id='525449', travel_minutes=3.0), Connection(target_stop_id='525449', travel_minutes=3.0), Connection(target_stop_id='525449', travel_minutes=4.0), Connection(target_stop_id='297020', travel_minutes=20.0), Connection(target_stop_id='525449', travel_minutes=3.0), Connection(target_stop_id='297020', travel_minutes=23.0), Connection(target_stop_id='297020', travel_minutes=20.0), Connection(target_stop_id='297020', travel_minutes=20.0), Connection(target_stop_id='525449', travel_minutes=3.0), Connection(target_stop_id='297020', travel_minutes=20.0), Connection(target_stop_id='525449', travel_minutes=3.0), Connection(target_stop_id='297020', travel_minutes=20.0), Connection(target_stop_id='525449', travel_minutes=3.0), Connection(target_stop_id='525449', travel_minutes=3.0), Connection(target_stop_id='297020', travel_minutes=23.0), Connection(target_stop_id='525449', travel_minutes=3.0), Connection(target_stop_id='297020', travel_minutes=20.0), Connection(target_stop_id='525449', travel_minutes=3.0), Connection(target_stop_id='297020', travel_minutes=20.0), Connection(target_stop_id='525449', travel_minutes=3.0), Connection(target_stop_id='525449', travel_minutes=3.0), Connection(target_stop_id='525449', travel_minutes=3.0), Connection(target_stop_id='297020', travel_minutes=20.0), Connection(target_stop_id='297020', travel_minutes=23.0), Connection(target_stop_id='525449', travel_minutes=3.0), Connection(target_stop_id='297020', travel_minutes=20.0), Connection(target_stop_id='525449', travel_minutes=3.0), Connection(target_stop_id='525449', travel_minutes=3.0), Connection(target_stop_id='297020', travel_minutes=20.0), Connection(target_stop_id='525449', travel_minutes=3.0), Connection(target_stop_id='297020', travel_minutes=20.0), Connection(target_stop_id='525449', travel_minutes=2.0), Connection(target_stop_id='525449', travel_minutes=3.0), Connection(target_stop_id='525449', travel_minutes=3.0), Connection(target_stop_id='525449', travel_minutes=3.0), Connection(target_stop_id='525449', travel_minutes=4.0), Connection(target_stop_id='525449', travel_minutes=4.0), Connection(target_stop_id='525449', travel_minutes=3.0), Connection(target_stop_id='525449', travel_minutes=4.0), Connection(target_stop_id='525449', travel_minutes=3.0), Connection(target_stop_id='525449', travel_minutes=3.0), Connection(target_stop_id='525449', travel_minutes=4.0), Connection(target_stop_id='525449', travel_minutes=3.0), Connection(target_stop_id='525449', travel_minutes=3.0), Connection(target_stop_id='297020', travel_minutes=20.0), Connection(target_stop_id='525449', travel_minutes=2.0), Connection(target_stop_id='525449', travel_minutes=2.0), Connection(target_stop_id='525449', travel_minutes=3.0), Connection(target_stop_id='525449', travel_minutes=3.0), Connection(target_stop_id='525449', travel_minutes=3.0), Connection(target_stop_id='525449', travel_minutes=3.0), Connection(target_stop_id='297020', travel_minutes=20.0), Connection(target_stop_id='297020', travel_minutes=20.0), Connection(target_stop_id='297020', travel_minutes=20.0), Connection(target_stop_id='525449', travel_minutes=4.0), Connection(target_stop_id='525449', travel_minutes=3.0), Connection(target_stop_id='525449', travel_minutes=3.0), Connection(target_stop_id='525449', travel_minutes=3.0), Connection(target_stop_id='525449', travel_minutes=3.0), Connection(target_stop_id='297020', travel_minutes=20.0)]), Stop(id='544624', name='Aachen, Hauptbahnhof', lat=50.767723, lon=6.092051, connections=[]), Stop(id='583764', name='Aalen Hauptbahnhof', lat=48.841602, lon=10.096031, connections=[]), Stop(id='387574', name='Aalen Hbf', lat=48.84168, lon=10.09613, connections=[Connection(target_stop_id='361744', travel_minutes=14.0), Connection(target_stop_id='954', travel_minutes=10.0), Connection(target_stop_id='361744', travel_minutes=14.0), Connection(target_stop_id='361744', travel_minutes=14.0), Connection(target_stop_id='954', travel_minutes=10.0), Connection(target_stop_id='361744', travel_minutes=14.0), Connection(target_stop_id='954', travel_minutes=10.0), Connection(target_stop_id='954', travel_minutes=10.0), Connection(target_stop_id='954', travel_minutes=10.0), Connection(target_stop_id='361744', travel_minutes=16.0), Connection(target_stop_id='954', travel_minutes=10.0), Connection(target_stop_id='954', travel_minutes=10.0), Connection(target_stop_id='361744', travel_minutes=14.0), Connection(target_stop_id='954', travel_minutes=10.0), Connection(target_stop_id='361744', travel_minutes=14.0), Connection(target_stop_id='954', travel_minutes=10.0), Connection(target_stop_id='954', travel_minutes=10.0), Connection(target_stop_id='361744', travel_minutes=14.0), Connection(target_stop_id='954', travel_minutes=10.0), Connection(target_stop_id='361744', travel_minutes=14.0), Connection(target_stop_id='361744', travel_minutes=14.0), Connection(target_stop_id='954', travel_minutes=10.0), Connection(target_stop_id='361744', travel_minutes=14.0), Connection(target_stop_id='361744', travel_minutes=14.0), Connection(target_stop_id='954', travel_minutes=10.0), Connection(target_stop_id='954', travel_minutes=10.0), Connection(target_stop_id='361744', travel_minutes=14.0), Connection(target_stop_id='361744', travel_minutes=14.0), Connection(target_stop_id='361744', travel_minutes=14.0), Connection(target_stop_id='361744', travel_minutes=15.0), Connection(target_stop_id='954', travel_minutes=10.0), Connection(target_stop_id='361744', travel_minutes=14.0), Connection(target_stop_id='361744', travel_minutes=15.0), Connection(target_stop_id='954', travel_minutes=10.0), Connection(target_stop_id='954', travel_minutes=10.0), Connection(target_stop_id='954', travel_minutes=10.0), Connection(target_stop_id='361744', travel_minutes=15.0), Connection(target_stop_id='954', travel_minutes=10.0), Connection(target_stop_id='954', travel_minutes=10.0), Connection(target_stop_id='954', travel_minutes=10.0), Connection(target_stop_id='361744', travel_minutes=14.0), Connection(target_stop_id='954', travel_minutes=10.0), Connection(target_stop_id='361744', travel_minutes=15.0), Connection(target_stop_id='954', travel_minutes=10.0), Connection(target_stop_id='954', travel_minutes=10.0), Connection(target_stop_id='954', travel_minutes=10.0), Connection(target_stop_id='428919', travel_minutes=42.0), Connection(target_stop_id='361744', travel_minutes=16.0), Connection(target_stop_id='361744', travel_minutes=15.0), Connection(target_stop_id='361744', travel_minutes=14.0), Connection(target_stop_id='361744', travel_minutes=14.0), Connection(target_stop_id='361744', travel_minutes=14.0), Connection(target_stop_id='954', travel_minutes=10.0), Connection(target_stop_id='361744', travel_minutes=14.0), Connection(target_stop_id='361744', travel_minutes=14.0), Connection(target_stop_id='954', travel_minutes=10.0), Connection(target_stop_id='361744', travel_minutes=14.0), Connection(target_stop_id='361744', travel_minutes=14.0), Connection(target_stop_id='361744', travel_minutes=15.0), Connection(target_stop_id='954', travel_minutes=10.0), Connection(target_stop_id='954', travel_minutes=10.0), Connection(target_stop_id='954', travel_minutes=10.0)]), Stop(id='195720', name='Altena(Westf)', lat=51.302013, lon=7.668693, connections=[Connection(target_stop_id='574207', travel_minutes=8.0), Connection(target_stop_id='574207', travel_minutes=8.0), Connection(target_stop_id='574207', travel_minutes=8.0), Connection(target_stop_id='574207', travel_minutes=8.0), Connection(target_stop_id='574207', travel_minutes=8.0), Connection(target_stop_id='574207', travel_minutes=8.0), Connection(target_stop_id='574207', travel_minutes=8.0), Connection(target_stop_id='574207', travel_minutes=8.0), Connection(target_stop_id='574207', travel_minutes=8.0), Connection(target_stop_id='574207', travel_minutes=8.0)]), Stop(id='486560', name='Altena(Westf)', lat=51.301956, lon=7.668576, connections=[Connection(target_stop_id='13103', travel_minutes=8.0), Connection(target_stop_id='13103', travel_minutes=8.0), Connection(target_stop_id='13103', travel_minutes=8.0), Connection(target_stop_id='13103', travel_minutes=8.0), Connection(target_stop_id='13103', travel_minutes=8.0), Connection(target_stop_id='13103', travel_minutes=8.0), Connection(target_stop_id='13103', travel_minutes=8.0), Connection(target_stop_id='13103', travel_minutes=8.0), Connection(target_stop_id='13103', travel_minutes=8.0), Connection(target_stop_id='13103', travel_minutes=8.0), Connection(target_stop_id='13103', travel_minutes=8.0), Connection(target_stop_id='13103', travel_minutes=8.0)])]\n"
     ]
    }
   ],
   "source": [
    "import json\n",
    "from pathlib import Path\n",
    "\n",
    "\n",
    "def load_stops_from_json(file_path: Path) -> list[Stop]:\n",
    "    \"\"\"Loads data from the prepared failsafe data.\"\"\"\n",
    "    with open(file_path, encoding=\"utf-8\") as f:\n",
    "        data = json.load(f)\n",
    "\n",
    "    return [\n",
    "        Stop(\n",
    "            **{\n",
    "                **entry,\n",
    "                \"connections\": [\n",
    "                    Connection(**connection)\n",
    "                    for connection in entry.get(\"connections\", [])\n",
    "                ],\n",
    "            }\n",
    "        )\n",
    "        for entry in data\n",
    "    ]\n",
    "\n",
    "\n",
    "stops = load_stops_from_json(Path(\"./task_2_data/failsafe_data.json\"))\n",
    "print(f\"Successfully loaded {len(stops)} stops (from failsafe data)!\")\n",
    "print(stops[:10])\n"
   ]
  },
  {
   "cell_type": "markdown",
   "id": "807431b1",
   "metadata": {},
   "source": [
    "#### **(01.2.2)** A*\n",
    "\n",
    "_Für **5** Punkte_\n",
    "\n",
    "Nun soll der vollständige A* Algorithmus in der Funktion `a_star` implementiert werden."
   ]
  },
  {
   "cell_type": "markdown",
   "id": "76c2820b",
   "metadata": {},
   "source": [
    "**_Deklaration der Heuristiken._** In der folgenden Zelle werden zwei Heuristiken `h_zero` und `h_euclid` definiert.\n",
    "\n",
    "**_An der nächsten Code Zelle muss nichts verändert werden._**"
   ]
  },
  {
   "cell_type": "code",
   "execution_count": 32,
   "id": "6609b585",
   "metadata": {},
   "outputs": [],
   "source": [
    "def h_zero(source: Stop, goal: Stop) -> float:\n",
    "    \"\"\"\n",
    "    A heuristic that always returns zero.\n",
    "\n",
    "    :param source: The current node.\n",
    "    :param goal: The goal node.\n",
    "    \"\"\"\n",
    "    return 0\n",
    "\n",
    "def h_euclid(source: Stop, goal: Stop) -> float:\n",
    "    \"\"\"\n",
    "    A heuristic that uses the euclidean distance of the coordinate pairs.\n",
    "\n",
    "    :param source: The current node.\n",
    "    :param goal: The goal node.\n",
    "    \"\"\"\n",
    "    dx = source.lat - goal.lat\n",
    "    dy = source.lon - goal.lon\n",
    "\n",
    "    return math.sqrt(dx * dx + dy * dy)"
   ]
  },
  {
   "cell_type": "markdown",
   "id": "ca214882",
   "metadata": {},
   "source": [
    "In der nächsten Zelle haben wir bereits die Signatur der `a_star` Funktion vorgegeben, eure Aufgabe ist es nun diese zu vervollständigen. Diese Funktion erhält als ersten Parameter die zu verwendende Heuristik, welche bereits vorgegeben ist. Als weitere Parameter erhält sie `start_id`, die `id` des `Stop`s von dem die Suche aus gestartet wird und `goal_id`, die `id` des `Stop`s zu dem ein Pfad gefunden werden soll. \n",
    "\n",
    "Der Rückgabewert der Funktion ist ein Tupel, welches an erster Stelle den gewählten Pfad und an zweiter Stelle die Gesamtkosten enthält.\n",
    "Der gewählte Pfad ist wiederum eine Liste aus Tupeln, welche an erster Stelle den `Stop` haben, von welchem die an zweiter Stelle stehende `Connection` aus geht.\n",
    "\n",
    "Ihr dürft natürlich auch weitere Funktionen definieren!"
   ]
  },
  {
   "cell_type": "code",
   "execution_count": 39,
   "id": "cc380335",
   "metadata": {},
   "outputs": [],
   "source": [
    "# Implementation of task 01.2.2\n",
    "def a_star(heuristic: Callable[[Stop, Stop], float], start_id: str, goal_id: str, stops: list[Stop]) -> tuple[list[tuple[Stop, Connection]], float]:\n",
    "    \"\"\"\n",
    "    Finds the shortest path to the given `goal_id`, starting from `start_id`.\n",
    "\n",
    "    :param heuristic: The heuristic to use when searching for a path.\n",
    "    :param start_id: The id of the stop to start the search from.\n",
    "    :param goal_id: The id of the stop to search a path to.\n",
    "    :param stops: The list of available stops.\n",
    "    \"\"\"\n",
    "    stop_dict = {s.id : s for s in stops}\n",
    "    start = stop_dict[start_id]\n",
    "    goal = stop_dict[goal_id]\n",
    "\n",
    "    # g_score: best known cost from start to each stop\n",
    "    g_score = {s.id: float('inf') for s in stops}\n",
    "    g_score[start_id] = 0.0\n",
    "\n",
    "    # came_from: to reconstruct path (stop_id -> (prev_stop_id, Connection))\n",
    "    came_from: dict[str, Tuple[str, Connection]] = {}\n",
    "\n",
    "    # Closed set: already expanded nodes\n",
    "    closed: set[str] = set()\n",
    "\n",
    "    queue = [(start, 0.0)]\n",
    "\n",
    "    while queue:\n",
    "        queue.sort(key = lambda a: heuristic(a[0], goal) + a[1])\n",
    "        current, g_current = queue.pop(0)\n",
    "\n",
    "        if g_current > g_score[current.id]:\n",
    "            continue\n",
    "\n",
    "        # if we reached the goal, reconstruct path\n",
    "        if current.id == goal_id:\n",
    "            print(\"Goal ID found! \\n\")\n",
    "            path: List[Tuple[Stop, Connection]] = []\n",
    "            node_id = goal_id\n",
    "            while node_id != start_id:\n",
    "                prev_id, conn = came_from[node_id]\n",
    "                path.append((stop_dict[prev_id], conn))\n",
    "                node_id = prev_id\n",
    "            path.reverse()\n",
    "            return path, g_score[goal_id]\n",
    "        \n",
    "        closed.add(current.id)\n",
    "\n",
    "        for connection in current.connections:\n",
    "            neigh_id = connection.target_stop_id\n",
    "            if neigh_id in closed:\n",
    "                continue\n",
    "            connection_g = g_current + connection.travel_minutes\n",
    "            # dynamic programming: only append if new shortest time to the stop\n",
    "            if connection_g < g_score[neigh_id]:\n",
    "                g_score[neigh_id] = connection_g\n",
    "                came_from[neigh_id] = (current.id, connection)\n",
    "                queue.append((stop_dict[neigh_id], connection_g))\n",
    "    return [], float('inf')\n"
   ]
  },
  {
   "cell_type": "markdown",
   "id": "2959479f",
   "metadata": {},
   "source": [
    "**_Testaufrufe._** Ihr könnt die folgenden Aufrufe des Algorithmus verwenden, um zu testen ob eure Implementierung für die Beispiele korrekt arbeitet.\n",
    "\n",
    "**_An der nächsten Code Zelle muss nichts verändert werden._**"
   ]
  },
  {
   "cell_type": "code",
   "execution_count": 40,
   "id": "56c6f16a",
   "metadata": {},
   "outputs": [
    {
     "name": "stdout",
     "output_type": "stream",
     "text": [
      "A* with h_zero:\n",
      "Funktionsaufruf hat 0.35126 Sekunden gedauert.\n",
      "Kein Pfad gefunden.\n",
      "\n",
      "A* with h_euclid:\n",
      "Funktionsaufruf hat 0.50318 Sekunden gedauert.\n",
      "Kein Pfad gefunden.\n"
     ]
    }
   ],
   "source": [
    "import time\n",
    "\n",
    "def print_path(path: list[tuple[Stop, Connection]], total_minutes: float):\n",
    "    \"\"\"\n",
    "    Helper function to print the result of a search in a nice way.\n",
    "\n",
    "    :param path: The actual path, together with the used connections.\n",
    "    :param time: The total minutes this path needs.\n",
    "    \"\"\"\n",
    "    if not path:\n",
    "        print(\"Kein Pfad gefunden.\")\n",
    "        return\n",
    "\n",
    "    print(\"Gefundener Pfad:\")\n",
    "    for stop, connection in path:\n",
    "        next_stop_name = next(s.name for s in stops if s.id == connection.target_stop_id)\n",
    "\n",
    "        print(f\"  * {stop.name} -> {next_stop_name} ({connection.travel_minutes} min)\")\n",
    "\n",
    "    print(f\"\\nGesamtdauer: {total_minutes:.1f} Minuten\\n\")\n",
    "\n",
    "\n",
    "def measured[A,**B](func: Callable[B, A]) -> Callable[B, A]:\n",
    "    \"\"\"\n",
    "    Measures the time it takes to run a function.\n",
    "\n",
    "    :param func: The function to measure.\n",
    "    :param args: The arguments to pass to the function.\n",
    "    :param kwargs: The keyword arguments to pass to the function.\n",
    "    \"\"\"\n",
    "    def wrapper(*args: B.args, **kwargs: B.kwargs) -> A:\n",
    "        start_time = time.perf_counter()\n",
    "        result = func(*args, **kwargs)\n",
    "        end_time = time.perf_counter()\n",
    "        print(f\"Funktionsaufruf hat {end_time - start_time:.5f} Sekunden gedauert.\")\n",
    "\n",
    "        return result\n",
    "\n",
    "    return wrapper\n",
    "\n",
    "\n",
    "\n",
    "# Test Calls\n",
    "\n",
    "# Aachen Hbf -> Amsterdam Centraal\n",
    "print(\"A* with h_zero:\")\n",
    "path, total_minutes = measured(a_star)(heuristic=h_zero, start_id=\"525449\", goal_id=\"351939\", stops=stops)\n",
    "\n",
    "print_path(path, total_minutes)\n",
    "# Gefundener Pfad:\n",
    "#  * Aachen Hbf -> Herzogenrath (14.0 min)\n",
    "#  * Herzogenrath -> Geilenkirchen (6.0 min)\n",
    "#  * Geilenkirchen -> Erkelenz (9.0 min)\n",
    "#  * Erkelenz -> Rheydt Hbf (7.0 min)\n",
    "#  * Rheydt Hbf -> Mönchengladbach Hbf (4.0 min)\n",
    "#  * Mönchengladbach Hbf -> Venlo(Gr) (11.0 min)\n",
    "#  * Venlo(Gr) -> 's-Hertogenbosch (35.0 min)\n",
    "#  * 's-Hertogenbosch -> Utrecht Centraal (27.0 min)\n",
    "#  * Utrecht Centraal -> Amsterdam Centraal (25.0 min)\n",
    "#\n",
    "# Gesamtdauer: 138.0 Minuten\n",
    "\n",
    "print() # Newline\n",
    "\n",
    "# Aachen Hbf -> Amsterdam Centraal\n",
    "print(\"A* with h_euclid:\")\n",
    "path, total_minutes = measured(a_star)(heuristic=h_euclid, start_id=\"525449\", goal_id=\"351939\", stops=stops)\n",
    "\n",
    "print_path(path, total_minutes)\n",
    "# Gefundener Pfad:\n",
    "#  * Aachen Hbf -> Herzogenrath (14.0 min)\n",
    "#  * Herzogenrath -> Geilenkirchen (6.0 min)\n",
    "#  * Geilenkirchen -> Erkelenz (9.0 min)\n",
    "#  * Erkelenz -> Rheydt Hbf (7.0 min)\n",
    "#  * Rheydt Hbf -> Mönchengladbach Hbf (4.0 min)\n",
    "#  * Mönchengladbach Hbf -> Venlo(Gr) (11.0 min)\n",
    "#  * Venlo(Gr) -> 's-Hertogenbosch (35.0 min)\n",
    "#  * 's-Hertogenbosch -> Utrecht Centraal (27.0 min)\n",
    "#  * Utrecht Centraal -> Amsterdam Centraal (25.0 min)\n",
    "#\n",
    "# Gesamtdauer: 138.0 Minuten\n"
   ]
  },
  {
   "cell_type": "markdown",
   "id": "65a3a441",
   "metadata": {},
   "source": [
    "#### **(01.2.3)** Bewertung der Heuristiken\n",
    "\n",
    "_Für **2** Punkte_\n",
    "\n",
    "Betrachtet erneut die gegebenen Heuristiken. Was ist die Intuition hinter beiden vorgegebenen Heuristiken? Wie verhält sich der A* Algorithmus bei Verwendung von `h_zero` und wieso könnte `h_euclid` eine Verbesserung bringen?"
   ]
  },
  {
   "cell_type": "markdown",
   "id": "89157c75",
   "metadata": {},
   "source": [
    "> \n",
    "Die Heuristik h_zero gibt als Schätzwert immer 0 zurück. Das ist für A* zulässig, 0 ist für alle Pfade eine Unterschätzung (lower bound). Allerdings verhält sich A* mit h_zero als Heuristik wie Uniform Cost Search.\n",
    "\n",
    "Mit einer nicht-trivialen Heuristik wird A* im Vergleich zu UCS deutlich verbessert, da sich der Suchraum einschränkt, das Ziel schneller erreicht wird und die Lösungen immer garantiert optimal sind.\n",
    "\n",
    "Da h_euclid eine solche nicht-triviale Heuristik ist, bringt es für den Algorithmus genau diese genannten Vorteile. Allerdings ist auch h_euclid noch nicht optimal, die Heuristik wird umso genauer, je enger der Lower Bound an der Realität ist.\n",
    "> "
   ]
  },
  {
   "cell_type": "markdown",
   "id": "41d669ab",
   "metadata": {},
   "source": [
    "#### **(01.2.4)** Eigene Heuristik\n",
    "\n",
    "_Für **3** Punkte_\n",
    "\n",
    "Beide gegebene Heuristiken sind nicht besonders gut geeignet um auf Koordinaten (`lat` und `lon`) zu arbeiten. Recherchiert deshalb selbst nach einer geeigneten Heuristik und implementiert diese in der folgenden Code-Zelle. Erklärt auch warum eure Heuristik besser als beide der vorgegebenen ist."
   ]
  },
  {
   "cell_type": "code",
   "execution_count": 35,
   "id": "f3ebccb7",
   "metadata": {},
   "outputs": [],
   "source": [
    "# Implementation of task 01.2.4\n",
    "def h_custom(source: Stop, goal: Stop) -> float:\n",
    "    # Implementation der Haversine-Formel für Orthodrome-Distanz \n",
    "    R = 6371.0 # Radius der Erde in km\n",
    "    x1 = math.radians(source.lat)\n",
    "    x2 = math.radians(goal.lat)\n",
    "    dx = math.radians(source.lat - goal.lat)\n",
    "    dy = math.radians(source.lon - goal.lon)\n",
    "\n",
    "    a = math.sin(dx / 2)**2 + math.cos(x1) * math.cos(x2) + math.sin(dy / 2)**2\n",
    "    c = 2 * math.atan2(math.sqrt(a), math.sqrt(1 - a))\n",
    "\n",
    "    distance = R * c # Distanz in km\n",
    "    max_speed_kmph = 250 # Höchstgeschwindigkeit der Züge in km/h (Annahme: 250 km/h)\n",
    "    max_speed_kmpm = max_speed_kmph / 60\n",
    "\n",
    "    return distance / max_speed_kmpm # Rückgabe: Minuten, die für die Distanz gebraucht werden"
   ]
  },
  {
   "cell_type": "markdown",
   "id": "a4d5bd86",
   "metadata": {},
   "source": [
    "> \n",
    "> Die Euklidsche Distanz geht von einem zweidimensionalen metrischen Koordinatensystem aus. Die Haversine Formel hingegen berücksichtigt die Erdkrümmung und ist invariant gegenüber Breiten- und Längenskalen. \n",
    "Die Heuristik mit der euklidschen Distanz kann bei Erweiterung des Beispiels auf andere Längen- oder Breitenkreise die Admissibility verletzen, indem es Distanzen überschätzt. Somit ist die Haversine Formel die robustere Lösung.\n",
    "> "
   ]
  },
  {
   "cell_type": "markdown",
   "id": "b9dcc970",
   "metadata": {},
   "source": [
    "**_Testaufruf._** Der Code in der folgenden Zelle kann verwendet werden um den Algorithmus mit eurer Heuristik zu testen.\n",
    "\n",
    "**_An der nächsten Code Zelle muss nichts verändert werden._**"
   ]
  },
  {
   "cell_type": "code",
   "execution_count": 46,
   "id": "af2d4414",
   "metadata": {},
   "outputs": [
    {
     "name": "stdout",
     "output_type": "stream",
     "text": [
      "Goal ID found! \n",
      "\n",
      "Funktionsaufruf hat 0.03509 Sekunden gedauert.\n",
      "Gefundener Pfad:\n",
      "  * Aachen Hbf -> Herzogenrath (14.0 min)\n",
      "  * Herzogenrath -> Geilenkirchen (6.0 min)\n",
      "  * Geilenkirchen -> Erkelenz (9.0 min)\n",
      "  * Erkelenz -> Rheydt Hbf (7.0 min)\n",
      "  * Rheydt Hbf -> Mönchengladbach Hbf (4.0 min)\n",
      "  * Mönchengladbach Hbf -> Venlo(Gr) (11.0 min)\n",
      "  * Venlo(Gr) -> 's-Hertogenbosch (35.0 min)\n",
      "  * 's-Hertogenbosch -> Utrecht Centraal (27.0 min)\n",
      "  * Utrecht Centraal -> Amsterdam Centraal (25.0 min)\n",
      "\n",
      "Gesamtdauer: 138.0 Minuten\n",
      "\n"
     ]
    }
   ],
   "source": [
    "path, total_minutes =  measured(a_star)(heuristic=h_custom, start_id=\"525449\", goal_id=\"351939\", stops=stops)\n",
    "\n",
    "print_path(path, total_minutes)"
   ]
  }
 ],
 "metadata": {
  "kernelspec": {
   "display_name": "PythonEnv",
   "language": "python",
   "name": "python3"
  },
  "language_info": {
   "codemirror_mode": {
    "name": "ipython",
    "version": 3
   },
   "file_extension": ".py",
   "mimetype": "text/x-python",
   "name": "python",
   "nbconvert_exporter": "python",
   "pygments_lexer": "ipython3",
   "version": "3.13.2"
  }
 },
 "nbformat": 4,
 "nbformat_minor": 5
}
