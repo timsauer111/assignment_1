{
    "cells": [
        {
            "cell_type": "markdown",
            "id": "e13a2a78",
            "metadata": {},
            "source": [
                "<img src=\"images/logo.png\" width=\"200\">\n"
            ]
        },
        {
            "cell_type": "markdown",
            "id": "d2c5798d",
            "metadata": {},
            "source": [
                "# KogSys-KI-B - Assignment 1\n",
                "\n",
                "### Search, Heuristic Search\n",
                "\n",
                "_Submission Deadline: **25.05.2025**_\n",
                "\n",
                "---\n",
                "\n"
            ]
        },
        {
            "cell_type": "markdown",
            "id": "dc0b5598",
            "metadata": {},
            "source": [
                "#### Submission Information\n",
                "\n",
                "Upload your solution via the VC course. Please upload **one Zip** archive per group. This must contain:\n",
                "\n",
                "- Your solution as **Notebook** (a `.inpynb` file)\n",
                "- A folder named **images** with all your images, if you used any (keep the image sizes relatively small)\n",
                "\n",
                "Your Zip file should be named as follows:\n",
                "\n",
                "```\n",
                "assignment_<assignment number>_solution_<group number>.zip\n",
                "```\n",
                "\n",
                "In this assignment, you can achieve a total of **20** points. From these points, **2 bonus points** for the exam will be calculated as follows:\n",
                "\n",
                "| **Points in Assignment** | **Bonus Points for Exam** |\n",
                "| :----------------------: | :-----------------------: |\n",
                "|            20            |             2             |\n",
                "|            15            |            1.5            |\n",
                "|            10            |             1             |\n",
                "|            5             |            0.5            |\n"
            ]
        },
        {
            "cell_type": "markdown",
            "id": "bac27b57",
            "metadata": {},
            "source": [
                "<div class='alert alert-block alert-danger'>\n",
                "\n",
                "##### **Important Notes**\n",
                "\n",
                "1. **This assignment is graded. You can earn bonus points for the exam.**\n",
                "2. **If it is evident that an assignment was copied from another source and no independent work was done, no bonus points will be awarded. Please formulate all answers in your own words!**\n",
                "3. **If LLMs (such as ChatGPT or Copilot) were used to create your submission, please indicate this in accordance with common scientific practices. See also the [AI Policy in the VC Course](https://vc.uni-bamberg.de/mod/page/view.php?id=1980835)**"
            ]
        },
        {
            "cell_type": "markdown",
            "id": "a19d1cab",
            "metadata": {},
            "source": [
                "### Setup"
            ]
        },
        {
            "cell_type": "markdown",
            "id": "be0fda73",
            "metadata": {},
            "source": [
                "To setup your assignment, you need to install the required dependencies, specified in `requirements.txt`. You can do this by executing the following code cell."
            ]
        },
        {
            "cell_type": "code",
            "execution_count": null,
            "id": "c7e922e6",
            "metadata": {},
            "outputs": [],
            "source": [
                "# Installs the required packages with the currently selected Python version\n",
                "%pip install -U -r requirements.txt"
            ]
        },
        {
            "cell_type": "markdown",
            "id": "1004ffb8",
            "metadata": {},
            "source": [
                "#### Library imports\n",
                "\n",
                "The following library imports may be used throughout this assignment. Do not use any other third-party libraries\n",
                "\n",
                "- `typing.Any` and `typing.Callable`: Required for type hints in the method specifications.\n",
                "- `pathlib.Path`. An object-oriented and platform-independent representation of file paths.\n",
                "- `math`. Various mathematical functions such as _sqrt_ or _sin_.\n",
                "- `dataclasses.dataclass`. Simple creation of immutable classes.\n",
                "- `random`: These two libraries are used to set _seeds_ in order to keep the results of random generators consistent.\n",
                "- `pandas` and `numpy`: You may use Pandas to import and adjust datasets\n",
                "- `networkx`: This library is used to store Graph networks\n",
                "- `matplotlib.pyplot`: This library is used to show images of the graphs\n",
                "\n",
                "**_Nothing needs to be changed in the next code cell._**"
            ]
        },
        {
            "cell_type": "code",
            "execution_count": null,
            "id": "a2da499e",
            "metadata": {},
            "outputs": [],
            "source": [
                "# Python Core libraries\n",
                "from typing import Any, Callable\n",
                "import random\n",
                "from pathlib import Path\n",
                "import math\n",
                "from dataclasses import dataclass\n",
                "\n",
                "# Allowed Third-party libraries\n",
                "import numpy as np\n",
                "import pandas as pd\n",
                "import networkx as nx\n",
                "import matplotlib.pyplot as plt\n",
                "\n",
                "random.seed(2025)"
            ]
        },
        {
            "cell_type": "markdown",
            "id": "b0a9d153",
            "metadata": {},
            "source": [
                "## Task 1 | Search\n",
                "\n",
                "*for totally 8 points*\n",
                "\n",
                "You are given a flow network representing the pipe system of a city. Each edge in the graph has a capacity indicating the maximum amount of water that can flow through that pipe per minute. There is one water `source` (node with index 0) and one `target` (node with highest index).\n",
                "\n",
                "---\n",
                "\n",
                "<details>\n",
                "<summary><strong>Hint:</strong> How to access the graphs nodes and edges in networkx</summary>\n",
                "\n",
                "[The documentation is availabe here.](https://networkx.org/documentation/stable/tutorial.html)\n",
                "\n",
                "**Getting all data**\n",
                "```python\n",
                "# Getting the nodes\n",
                "> list(G.nodes)\n",
                "[0,1,2,3,4,5,6,7,8,9,10]\n",
                "# Getting the edges\n",
                "> list(G.edges)\n",
                "[(0, 1),\n",
                " (0, 2),\n",
                " (1, 9),\n",
                " ...]\n",
                "# Getting edges with the attached data\n",
                "> list(G.edges(data=True))\n",
                "[(0, 1, {'capacity': 57}),\n",
                " (0, 2, {'capacity': 41}),\n",
                " (1, 9, {'capacity': 59}),\n",
                " ...]\n",
                "```\n",
                "\n",
                "**Accessing neighbours**\n",
                "```python\n",
                "# Neighbours of node 0\n",
                "> list(G[0]) # or list(G.neighbors(0)) or list(G.successors(0))\n",
                "[1, 2]\n",
                "```\n",
                "\n",
                "**Accessing edges**\n",
                "```python\n",
                "# The data at edge 0 -> 1\n",
                "> G[0][1] # or G.edges[0,1]\n",
                "{'capacity': 57}\n",
                "```\n",
                "\n",
                "**Sample imperative implementation of a depth first search**\n",
                "```python\n",
                "def dfs(G: nx.DiGraph, source: int, target: int) -> list[int] | None:\n",
                "    stack = [(source, [source])]\n",
                "    while stack:\n",
                "        (node, path) = stack.pop()\n",
                "        for next in G.neighbors(node):\n",
                "            if next in path:\n",
                "                continue\n",
                "            elif next == target:\n",
                "                return path + [next]\n",
                "            else:\n",
                "                stack.append((next, path + [next]))\n",
                "    return None\n",
                "dfs(G, 0, 10)\n",
                "# -> [0, 2, 4, 6, 10]\n",
                "```\n",
                "\n",
                "</details>"
            ]
        },
        {
            "cell_type": "markdown",
            "id": "07fcb36d",
            "metadata": {},
            "source": [
                "#### Flow Network Generation\n",
                "\n",
                "In the following, we define a function that generates the random flow network that is used in this task.\n",
                "\n",
                "**_Nothing needs to be changed in the next code cell._**"
            ]
        },
        {
            "cell_type": "code",
            "execution_count": null,
            "id": "d216ba02",
            "metadata": {},
            "outputs": [],
            "source": [
                "# Code for generating a flow network and plotting it\n",
                "\n",
                "def generate_flow_network(num_nodes: int, num_edges: int, min_capacity: int, max_capacity: int, seed=2025) -> nx.Graph:\n",
                "    \"\"\"\n",
                "    Generate a random directed flow network with specified parameters.\n",
                "    \n",
                "    Returns:\n",
                "        A directed graph (DiGraph) with random capacities and costs on edges.\n",
                "        The graph is read-only to prevent unintended modifications.\n",
                "    \"\"\"\n",
                "    # Reset the random seed for reproducibility\n",
                "    random.seed(seed)\n",
                "    \n",
                "    # Need to distribute the edges among the nodes, ensuring that each node has at least one incoming and one outgoing edge.\n",
                "    distribute_amount = lambda x, n: [1 + ((remaining := x - n) // n) + (1 if i < remaining % n else 0) for i in range(n)] if n <= x else []\n",
                "    degrees = distribute_amount(num_edges, num_nodes - 1)\n",
                "    in_degree = [0] + random.sample(degrees, k=len(degrees))  # First node has no outgoing edges\n",
                "    out_degree = random.sample(degrees, k=len(degrees)) + [0]  # Last node has no outgoing edges\n",
                "\n",
                "    G = nx.DiGraph()\n",
                "    G.add_nodes_from(range(num_nodes))\n",
                "    \n",
                "    # Add additional edges to ensure the graph has the desired number of edges\n",
                "    for u in range(num_nodes):\n",
                "        for _ in range(out_degree[u]): \n",
                "            # Select a random node to connect to, ensuring it is not the same as u and does not already have an edge with u\n",
                "            try:\n",
                "                v = random.choice([n for n in G.nodes() if n != u and not G.has_edge(u, n) and not G.has_edge(n, u) and in_degree[n] > G.in_degree(n)]) \n",
                "            except IndexError as e: # due to the randomness of the selection, it is possible that no node is available to connect to\n",
                "                v = random.choice([n for n in G.nodes() if n != u and not G.has_edge(u, n) and not G.has_edge(n, u) and in_degree[n] != 0])\n",
                "            capacity = random.randint(min_capacity, max_capacity)\n",
                "            G.add_edge(u, v, capacity=capacity)\n",
                "\n",
                "    return nx.restricted_view(G, [], [])\n",
                "\n",
                "def plot_flow_network(G: nx.DiGraph, path: list[int] | None = None, size: tuple[float,float] = (10, 6)) -> None:\n",
                "    \"\"\"Plot the flow network using matplotlib and networkx.\n",
                "\n",
                "    Args:\n",
                "        G (nx.DiGraph): The flow network graph to plot.\n",
                "        path (list[int] | None, optional): A path through the network to highlight. Defaults to None.\n",
                "    \"\"\"\n",
                "    pos = nx.kamada_kawai_layout(G)\n",
                "    edge_colors = 'black'\n",
                "    if path:\n",
                "        # Highlight the path in the graph\n",
                "        path_edges = list(zip(path, path[1:]))\n",
                "        edge_colors = ['blue' if (u, v) in path_edges else 'black' for u, v in G.edges()]\n",
                "    nx.draw_networkx(G, pos, node_color=['green']+ ['pink']*(len(G.nodes)-2) + ['orange'], arrowsize=10, with_labels=True, edge_color=edge_colors)\n",
                "\n",
                "    fig = plt.gcf()\n",
                "    fig.set_size_inches(*size)\n",
                "\n",
                "    plt.axis(\"off\")\n",
                "    plt.show()\n",
                "\n",
                "G = generate_flow_network(11, 20, 30, 60, 2)\n",
                "plot_flow_network(G)\n"
            ]
        },
        {
            "cell_type": "markdown",
            "id": "c9be7d75",
            "metadata": {},
            "source": [
                "#### **(01.1.1)** Path with maximum flow\n",
                "\n",
                "_For **4** points_\n",
                "\n",
                "Find the path with the maximum flow through the network from the `source` to the `target`. Which algorithm that was presented in the lectures would you use for this task, and why?\n",
                "\n",
                "Write out your approach before implementing it in Python.\n",
                "\n"
            ]
        },
        {
            "cell_type": "markdown",
            "id": "106c0a67",
            "metadata": {},
            "source": [
                ">\n",
                "> Please enter your answer here.\n",
                "> "
            ]
        },
        {
            "cell_type": "code",
            "execution_count": null,
            "id": "5a066818",
            "metadata": {},
            "outputs": [],
            "source": [
                "# Implementation of task 01.1.1\n",
                "\n",
                "def path_with_maximum_capacity(G: nx.DiGraph, source: int, target: int) -> list[int]:\n",
                "    \"\"\"\n",
                "    Find the path with maximum capacity from source to target in the flow network.\n",
                "\n",
                "    Args:\n",
                "        G (nx.DiGraph): The flow network graph.\n",
                "        source (int): The source node.\n",
                "        target (int): The target node.\n",
                "\n",
                "    Returns:\n",
                "        list[int]: The path with maximum capacity from source to target.\n",
                "    \"\"\"\n",
                "    # TODO: Implement this\n",
                "    return []\n",
                "\n",
                "path = path_with_maximum_capacity(G, 0, 10)\n",
                "plot_flow_network(G, path)"
            ]
        },
        {
            "cell_type": "markdown",
            "id": "99c970e7",
            "metadata": {},
            "source": [
                "#### **(01.1.2)** Large network\n",
                "\n",
                "_For **2** points_\n",
                "\n",
                "In the following code cells, we have generated larger networks. What happens when you run your code on these networks? Explain why!"
            ]
        },
        {
            "cell_type": "code",
            "execution_count": null,
            "id": "0ec5f001",
            "metadata": {},
            "outputs": [],
            "source": [
                "# You do not need to modify the code in this cell.\n",
                "# You may however do some experiments with the parameters to see how your code behaves.\n",
                "\n",
                "G_large = generate_flow_network(21, 80, 25, 60)\n",
                "\n",
                "path_with_maximum_capacity(G_large, 0, 20)"
            ]
        },
        {
            "cell_type": "code",
            "execution_count": null,
            "id": "befa2b8d",
            "metadata": {},
            "outputs": [],
            "source": [
                "G_huge = generate_flow_network(51, 200, 25, 60)\n",
                "\n",
                "path_with_maximum_capacity(G_huge, 0, 10)"
            ]
        },
        {
            "cell_type": "markdown",
            "id": "fcfd2e2a",
            "metadata": {},
            "source": [
                ">\n",
                "> Please enter your answer here.\n",
                "> \n"
            ]
        },
        {
            "cell_type": "markdown",
            "id": "056c5f41",
            "metadata": {},
            "source": [
                "#### **(01.1.3)** Cost per liter\n",
                "\n",
                "_For **2** points_\n",
                "\n",
                "Suppose each pipe also had an associated cost per liter of water flowing through it, and you wanted to minimize the total cost while maximizing the flow.\n",
                "How do you need to change in your implementation for a function `path_with_maximum_capacity_minimum_cost` to support this?\n",
                "\n",
                "Write out your approach before implementing it in Python."
            ]
        },
        {
            "cell_type": "markdown",
            "id": "cf43a859",
            "metadata": {},
            "source": [
                "**Add costs to edges**\n",
                "\n",
                "A function to add random costs to the graph.\n",
                "\n",
                "**_Nothing needs to be changed in the next code cell._**"
            ]
        },
        {
            "cell_type": "code",
            "execution_count": null,
            "id": "60698b15",
            "metadata": {},
            "outputs": [],
            "source": [
                "def graph_with_edge_costs(G: nx.DiGraph, min_cost: int, max_cost: int, seed: int = 2025) -> None:\n",
                "    \"\"\"\n",
                "    Add random costs to the edges of the graph.\n",
                "\n",
                "    Args:\n",
                "        G (nx.DiGraph): The flow network graph.\n",
                "        min_cost (int): Minimum cost for edges.\n",
                "        max_cost (int): Maximum cost for edges.\n",
                "    \"\"\"\n",
                "    random.seed(seed)\n",
                "    G = nx.DiGraph(G)  # Create a copy of the graph, since it is read-only\n",
                "    for u, v in G.edges():\n",
                "        cost = random.randint(min_cost, max_cost)\n",
                "        G[u][v]['cost'] = cost\n",
                "    return nx.restricted_view(G, [], [])\n",
                "\n",
                "G_with_costs = graph_with_edge_costs(G, 20, 50)"
            ]
        },
        {
            "cell_type": "markdown",
            "id": "b4d98ec8",
            "metadata": {},
            "source": [
                ">\n",
                "> Please enter your answer here.\n",
                "> \n"
            ]
        },
        {
            "cell_type": "code",
            "execution_count": null,
            "id": "faef5479",
            "metadata": {},
            "outputs": [],
            "source": [
                "# Implementation of task 01.1.3\n",
                "\n",
                "def path_with_maximum_capacity_minimum_cost(G: nx.DiGraph, source: int, target: int) -> list[int]:\n",
                "    \"\"\"\n",
                "    Find the path with maximum capacity and minimum cost from source to target in the flow network.\n",
                "\n",
                "    Args:\n",
                "        G (nx.DiGraph): The flow network graph.\n",
                "        source (int): The source node.\n",
                "        target (int): The target node.\n",
                "\n",
                "    Returns:\n",
                "        list[int]: The path with maximum capacity and minimum cost from source to target.\n",
                "    \"\"\"\n",
                "    \n",
                "    # TODO: Implement this\n",
                "    \n",
                "    return []\n",
                "\n",
                "path = path_with_maximum_capacity_minimum_cost(G_with_costs, 0, 10)\n",
                "plot_flow_network(G, path)"
            ]
        },
        {
            "cell_type": "markdown",
            "id": "43d539fa",
            "metadata": {},
            "source": [
                "## Task 2 | Heuristic Search with A*\n",
                "\n",
                "_for totally 12 points_"
            ]
        },
        {
            "cell_type": "markdown",
            "id": "148df6bc",
            "metadata": {},
            "source": [
                "Throughout this task, we will use the [GTFS.de](https://gtfs.de/de/feeds/) dataset for the German rail network. We aim to implement an A* algorithm that allows us to find the fastest connections.\n",
                "\n",
                "<div class=\"alert-warning\" style=\"padding: 1rem\">\n",
                "For simplification, we will ignore the different arrival and departure times in this task. We will only consider the stations and travel duration."
            ]
        },
        {
            "cell_type": "markdown",
            "id": "b5a8a654",
            "metadata": {},
            "source": [
                "**_Data Model._** In the following cell, two classes are defined to represent the data.\n",
                "\n",
                "- `Connection` represents a connection from one `Stop` to another `target_stop_id`. This connection has a travel duration of `travel_minutes`.\n",
                "- `Stop` represents a stop with a unique `id`, a `name`, and `connections`. A stop has multiple _outgoing_ `Connections`. Additionally, `Stop` also stores the `lat` and `lon` coordinates of the stop.\n",
                "\n",
                "**_No changes must be made to the next code cell._**"
            ]
        },
        {
            "cell_type": "code",
            "execution_count": null,
            "id": "bbe39655",
            "metadata": {},
            "outputs": [],
            "source": [
                "@dataclass(frozen=True)\n",
                "class Connection:\n",
                "    \"\"\"A connection, from one stop to the target stop that takes some time.\"\"\"\n",
                "\n",
                "    target_stop_id: str\n",
                "    travel_minutes: float\n",
                "\n",
                "\n",
                "@dataclass\n",
                "class Stop:\n",
                "    \"\"\"A single stop with outgoing connections.\"\"\"\n",
                "\n",
                "    id: str\n",
                "    name: str\n",
                "    lat: float\n",
                "    lon: float\n",
                "    connections: frozenset[Connection]"
            ]
        },
        {
            "cell_type": "markdown",
            "id": "78d92b77",
            "metadata": {},
            "source": [
                "#### (01.2.1) Importing the Dataset\n",
                "\n",
                "_For **2** points_"
            ]
        },
        {
            "cell_type": "markdown",
            "id": "180ad3b8",
            "metadata": {},
            "source": [
                "In the following cell, the dataset _Rail Passenger Transport Germany_ will be loaded. This dataset is located in the `task_2_data` folder and was downloaded from [GTFS.de](https://gtfs.de/de/feeds/) under the [Creative Commons 4.0](https://creativecommons.org/licenses/by/4.0/).\n",
                "\n",
                "This dataset contains various files. All data is stored in CSV format (\"Comma-Separated Values\"). This format saves tabular data, where the values of a row are separated by commas. Each row corresponds to a record entry, and the first row typically contains the column headers.\n",
                "\n",
                "To iterate over the rows of a CSV file in Python, the following code can be used:\n",
                "\n",
                "```python\n",
                "import csv\n",
                "\n",
                "with open(\"stops.csv\", encoding=\"utf-8\") as f:\n",
                "    reader = csv.DictReader(f)\n",
                "    \n",
                "    # or do whatever you want with the reader iterable\n",
                "    map(lambda row: print(row), reader)\n",
                "```\n",
                "\n",
                "\n",
                "We only need two files from the dataset: `stops.csv` and `stop_times.csv`. Their content is briefly explained below.\n",
                "\n",
                "The file `stops.csv` contains all available stops in the transit network. Each line describes a stop based on four essential attributes:\n",
                "- `stop_id`: A unique identification number for the stop.\n",
                "- `stop_name`: The name of the stop (e.g., \"Central Station\").\n",
                "- `stop_lat`: The latitude of the stop (geographic coordinate).\n",
                "- `stop_lon`: The longitude of the stop (geographic coordinate).\n",
                "\n",
                "The file `stop_times.csv` contains the sequence in which stops are visited during a trip (`trip_id`), as well as the arrival and departure times. Each line describes a stop at a specific stop during a trip with the following information:\n",
                "- `trip_id`: An ID that describes a specific trip.\n",
                "- `arrival_time`: The arrival time at the stop (in `HH:MM:SS` format).\n",
                "- `departure_time`: The departure time from the stop (also `HH:MM:SS`).\n",
                "- `stop_id`: The ID of the stop.\n",
                "- `stop_sequence`: The order of this stop within the trip.\n",
                "\n",
                "_In fact, both files contain additional attributes, but these are not necessary for completing the task._\n",
                "\n",
                "Now complete the provided code structure to load all `Stops` with their `Connections` from the dataset.\n",
                "\n",
                "\n",
                "---\n",
                "\n",
                "<details>\n",
                "<summary>Tip for parsing the edges of the graph</summary>\n",
                "\n",
                "To parse the edges of the graph from the data, you look at the consecutive entries within a trip (from the `stop_times.csv` file). Whenever one stop (`stop_id`) follows another stop (`stop_sequence`), a directed connection is created from the first stop to the second stop. The travel time is calculated as the difference between the departure time at the first stop and the arrival time at the second stop.\n",
                "\n",
                "</details>"
            ]
        },
        {
            "cell_type": "code",
            "execution_count": null,
            "id": "2f0dcf0c",
            "metadata": {},
            "outputs": [],
            "source": [
                "# Implementation of task 02.1.1\n",
                "def parse_stops(base_dir: Path) -> list[Stop]:\n",
                "    \"\"\"Parses all stops from the given dataset.\"\"\"\n",
                "    # TODO: Implement here\n",
                "\n",
                "    return []\n",
                "\n",
                "\n",
                "# Load the stops from the dataset\n",
                "stops = parse_stops(Path(\"./task_2_data\"))\n",
                "\n",
                "print(f\"Successfully loaded {len(stops)} stops!\")"
            ]
        },
        {
            "cell_type": "markdown",
            "id": "304f7cb3",
            "metadata": {},
            "source": [
                "<div class=\"alert-danger\" style=\"padding: 1rem\">\n",
                "If you are unable to complete the previous task, run the following code cell to load the pre-prepared data and be able to work on the subsequent tasks."
            ]
        },
        {
            "cell_type": "code",
            "execution_count": null,
            "id": "be190a7a",
            "metadata": {},
            "outputs": [],
            "source": [
                "import json\n",
                "from pathlib import Path\n",
                "\n",
                "\n",
                "def load_stops_from_json(file_path: Path) -> list[Stop]:\n",
                "    \"\"\"Loads data from the prepared failsafe data.\"\"\"\n",
                "    with open(file_path, encoding=\"utf-8\") as f:\n",
                "        data = json.load(f)\n",
                "\n",
                "    return [\n",
                "        Stop(\n",
                "            **{\n",
                "                **entry,\n",
                "                \"connections\": [\n",
                "                    Connection(**connection)\n",
                "                    for connection in entry.get(\"connections\", [])\n",
                "                ],\n",
                "            }\n",
                "        )\n",
                "        for entry in data\n",
                "    ]\n",
                "\n",
                "\n",
                "stops = load_stops_from_json(Path(\"./task_2_data/failsafe_data.json\"))\n",
                "print(f\"Successfully loaded {len(stops)} stops (from failsafe data)!\")\n"
            ]
        },
        {
            "cell_type": "markdown",
            "id": "2989bcf3",
            "metadata": {},
            "source": [
                "#### **(01.2.2)** A*\n",
                "\n",
                "_For **5** points_\n",
                "\n",
                "The complete A* algorithm should now be implemented in the function `a_star`."
            ]
        },
        {
            "cell_type": "markdown",
            "id": "efa4aca0",
            "metadata": {},
            "source": [
                "**_Declaration of the heuristics._** In the following cell, two heuristics `h_zero` and `h_euclid` are defined.\n",
                "\n",
                "**_No changes are required in the next code cell._**"
            ]
        },
        {
            "cell_type": "code",
            "execution_count": null,
            "id": "b646f19a",
            "metadata": {},
            "outputs": [],
            "source": [
                "def h_zero(source: Stop, goal: Stop) -> float:\n",
                "    \"\"\"\n",
                "    A heuristic that always returns zero.\n",
                "\n",
                "    :param source: The current node.\n",
                "    :param goal: The goal node.\n",
                "    \"\"\"\n",
                "    return 0\n",
                "\n",
                "def h_euclid(source: Stop, goal: Stop) -> float:\n",
                "    \"\"\"\n",
                "    A heuristic that uses the euclidean distance of the coordinate pairs.\n",
                "\n",
                "    :param source: The current node.\n",
                "    :param goal: The goal node.\n",
                "    \"\"\"\n",
                "    dx = source.lat - goal.lat\n",
                "    dy = source.lon - goal.lon\n",
                "\n",
                "    return math.sqrt(dx * dx + dy * dy)"
            ]
        },
        {
            "cell_type": "markdown",
            "id": "571d16a1",
            "metadata": {},
            "source": [
                "In the next cell, we have already defined the signature of the `a_star` function; your task is now to complete it. This function takes as its first parameter the heuristic to be used, which has already been provided. Additionally, it receives `start_id`, the `id` of the `Stop` from which the search starts, and `goal_id`, the `id` of the `Stop` for which a path should be found.\n",
                "\n",
                "The return value of the function is a tuple that contains, in the first position, the chosen path and, in the second position, the total cost. The chosen path is, in turn, a list of tuples, where the first item is the `Stop` from which the second item, the `Connection`, departs.\n",
                "\n",
                "You are, of course, allowed to define additional functions!"
            ]
        },
        {
            "cell_type": "code",
            "execution_count": null,
            "id": "138f831a",
            "metadata": {},
            "outputs": [],
            "source": [
                "# Implementation of task 01.2.2\n",
                "def a_star(heuristic: Callable[[Stop, Stop], float], start_id: str, goal_id: str, stops: list[Stop]) -> tuple[list[tuple[Stop, Connection]], float]:\n",
                "    \"\"\"\n",
                "    Finds the shortest path to the given `goal_id`, starting from `start_id`.\n",
                "\n",
                "    :param heuristic: The heuristic to use when searching for a path.\n",
                "    :param start_id: The id of the stop to start the search from.\n",
                "    :param goal_id: The id of the stop to search a path to.\n",
                "    :param stops: The list of available stops.\n",
                "    \"\"\"\n",
                "    # TODO: Implement the A* algorithm\n",
                "\n",
                "    return [], float('inf')"
            ]
        },
        {
            "cell_type": "markdown",
            "id": "3c3f0798",
            "metadata": {},
            "source": [
                "**_Test calls._** You can use the following calls of the algorithm to test whether your implementation works correctly for the examples.\n",
                "\n",
                "**_No changes need to be made to the next code cell._**"
            ]
        },
        {
            "cell_type": "code",
            "execution_count": null,
            "id": "71c9336e",
            "metadata": {},
            "outputs": [],
            "source": [
                "import time\n",
                "\n",
                "def print_path(path: list[tuple[Stop, Connection]], total_minutes: float):\n",
                "    \"\"\"\n",
                "    Helper function to print the result of a search in a nice way.\n",
                "\n",
                "    :param path: The actual path, together with the used connections.\n",
                "    :param time: The total minutes this path needs.\n",
                "    \"\"\"\n",
                "    if not path:\n",
                "        print(\"No path found.\")\n",
                "        return\n",
                "\n",
                "    print(\"Path found:\")\n",
                "    for stop, connection in path:\n",
                "        next_stop_name = next(s.name for s in stops if s.id == connection.target_stop_id)\n",
                "\n",
                "        print(f\"  * {stop.name} -> {next_stop_name} ({connection.travel_minutes} min)\")\n",
                "\n",
                "    print(f\"\\nTotal duration: {total_minutes:.1f} minutes\\n\")\n",
                "\n",
                "def measured[A,**B](func: Callable[B, A]) -> Callable[B, A]:\n",
                "    \"\"\"\n",
                "    Measures the time it takes to run a function.\n",
                "\n",
                "    :param func: The function to measure.\n",
                "    :param args: The arguments to pass to the function.\n",
                "    :param kwargs: The keyword arguments to pass to the function.\n",
                "    \"\"\"\n",
                "    def wrapper(*args: B.args, **kwargs: B.kwargs) -> A:\n",
                "        start_time = time.perf_counter()\n",
                "        result = func(*args, **kwargs)\n",
                "        end_time = time.perf_counter()\n",
                "        print(f\"Time taken: {end_time - start_time:.5f} seconds\")\n",
                "\n",
                "        return result\n",
                "\n",
                "    return wrapper\n",
                "\n",
                "\n",
                "\n",
                "# Test Calls\n",
                "\n",
                "# Aachen Hbf -> Amsterdam Centraal\n",
                "print(\"A* with h_zero:\")\n",
                "path, total_minutes = measured(a_star)(heuristic=h_zero, start_id=\"525449\", goal_id=\"351939\", stops=stops)\n",
                "\n",
                "print_path(path, total_minutes)\n",
                "# Path found:\n",
                "#  * Aachen Hbf -> Herzogenrath (14.0 min)\n",
                "#  * Herzogenrath -> Geilenkirchen (6.0 min)\n",
                "#  * Geilenkirchen -> Erkelenz (9.0 min)\n",
                "#  * Erkelenz -> Rheydt Hbf (7.0 min)\n",
                "#  * Rheydt Hbf -> Mönchengladbach Hbf (4.0 min)\n",
                "#  * Mönchengladbach Hbf -> Venlo(Gr) (11.0 min)\n",
                "#  * Venlo(Gr) -> 's-Hertogenbosch (35.0 min)\n",
                "#  * 's-Hertogenbosch -> Utrecht Centraal (27.0 min)\n",
                "#  * Utrecht Centraal -> Amsterdam Centraal (25.0 min)\n",
                "#\n",
                "# Total duration: 138.0 minutes\n",
                "\n",
                "print() # Newline\n",
                "\n",
                "# Aachen Hbf -> Amsterdam Centraal\n",
                "print(\"A* with h_euclid:\")\n",
                "path, total_minutes = measured(a_star)(heuristic=h_euclid, start_id=\"525449\", goal_id=\"351939\", stops=stops)\n",
                "\n",
                "print_path(path, total_minutes)\n",
                "# Path found:\n",
                "#  * Aachen Hbf -> Herzogenrath (14.0 min)\n",
                "#  * Herzogenrath -> Geilenkirchen (6.0 min)\n",
                "#  * Geilenkirchen -> Erkelenz (9.0 min)\n",
                "#  * Erkelenz -> Rheydt Hbf (7.0 min)\n",
                "#  * Rheydt Hbf -> Mönchengladbach Hbf (4.0 min)\n",
                "#  * Mönchengladbach Hbf -> Venlo(Gr) (11.0 min)\n",
                "#  * Venlo(Gr) -> 's-Hertogenbosch (35.0 min)\n",
                "#  * 's-Hertogenbosch -> Utrecht Centraal (27.0 min)\n",
                "#  * Utrecht Centraal -> Amsterdam Centraal (25.0 min)\n",
                "#\n",
                "# Total duration: 138.0 minutes\n"
            ]
        },
        {
            "cell_type": "markdown",
            "id": "b35697a1",
            "metadata": {},
            "source": [
                "#### **(01.2.3)** Evaluation of the Heuristics\n",
                "\n",
                "_For **2** points_\n",
                "\n",
                "Again, consider the given heuristics. What is the intuition behind both provided heuristics? How does the A* algorithm behave when using `h_zero`, and why could `h_euclid` provide an improvement?"
            ]
        },
        {
            "cell_type": "markdown",
            "id": "1514b580",
            "metadata": {},
            "source": [
                "> \n",
                "> Please enter your answer here.\n",
                "> "
            ]
        },
        {
            "cell_type": "markdown",
            "id": "527917be",
            "metadata": {},
            "source": [
                "#### **(01.2.4)** Custom Heuristic\n",
                "\n",
                "_For **3** points_\n",
                "\n",
                "Both provided heuristics are not particularly well-suited for working with coordinates (`lat` and `lon`). Therefore, research a suitable heuristic on your own and implement it in the following code cell. Also, explain why your heuristic is better than both of the given ones."
            ]
        },
        {
            "cell_type": "code",
            "execution_count": null,
            "id": "4d00ebd5",
            "metadata": {},
            "outputs": [],
            "source": [
                "# Implementation of task 01.2.4\n",
                "def h_custom(source: Stop, goal: Stop) -> float:\n",
                "    # TODO: Implement custom heuristic\n",
                "    return 0"
            ]
        },
        {
            "cell_type": "markdown",
            "id": "bf200042",
            "metadata": {},
            "source": [
                "> \n",
                "> Please enter your answer here.\n",
                "> "
            ]
        },
        {
            "cell_type": "markdown",
            "id": "adb88faa",
            "metadata": {},
            "source": [
                "**_Test call._** The code in the following cell can be used to test the algorithm with your heuristic.\n",
                "\n",
                "**_No changes are necessary in the next code cell._**"
            ]
        },
        {
            "cell_type": "code",
            "execution_count": null,
            "id": "7572763f",
            "metadata": {},
            "outputs": [],
            "source": [
                "path, total_minutes = measured(a_star)(heuristic=h_custom, start_id=\"525449\", goal_id=\"351939\", stops=stops)\n",
                "\n",
                "print_path(path, total_minutes)"
            ]
        }
    ],
    "metadata": {
        "kernelspec": {
            "display_name": "Python 3",
            "language": "python",
            "name": "python3"
        },
        "language_info": {
            "codemirror_mode": {
                "name": "ipython",
                "version": 3
            },
            "file_extension": ".py",
            "mimetype": "text/x-python",
            "name": "python",
            "nbconvert_exporter": "python",
            "pygments_lexer": "ipython3",
            "version": "3.12.10"
        }
    },
    "nbformat": 4,
    "nbformat_minor": 5
}
